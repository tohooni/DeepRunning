{
 "cells": [
  {
   "cell_type": "code",
   "execution_count": 1,
   "metadata": {
    "scrolled": false
   },
   "outputs": [
    {
     "ename": "SyntaxError",
     "evalue": "invalid character in identifier (<ipython-input-1-7bd7ea3a6958>, line 1)",
     "output_type": "error",
     "traceback": [
      "\u001b[1;36m  File \u001b[1;32m\"<ipython-input-1-7bd7ea3a6958>\"\u001b[1;36m, line \u001b[1;32m1\u001b[0m\n\u001b[1;33m    ●통계학이란\u001b[0m\n\u001b[1;37m         ^\u001b[0m\n\u001b[1;31mSyntaxError\u001b[0m\u001b[1;31m:\u001b[0m invalid character in identifier\n"
     ]
    }
   ],
   "source": [
    "●통계학이란\n",
    "-수치 데이터의 수집, 분석, 해석, 표현등을 다루는 수학의 한 분야로 크게 기술 통계학과 추론통계학으로 분류됨.\n",
    "\n",
    "-기술 통계학 : 연속형 데이터 -> 평균, 표준편자와 같은 자료 요약\n",
    "              범주형 데이터 -> 빈도, 백분류과 같은 자료 요약\n",
    "        \n",
    "-추론 통계약 : 표본이라 불리는 일부 자료를 수집해 전체 모집합에 대한 결론을 유추 추론은 가설."
   ]
  },
  {
   "cell_type": "markdown",
   "metadata": {},
   "source": [
    "●머신러닝 이해에 필요한 통계학 핵심 개념\n",
    "-통계 모델은 수학적 모델 -> 변수들로 이루어진 수학식을 계산해 실제 값을 추정하는 방법\n",
    "\n",
    "-통계 모델을 이루는 여러 가정은 확률 분표를 따름. => 정규분포\n",
    "\n",
    "-통계 모델은 모든 변수가 만족해야 하는 기존 가정으로 시작하며, 이 조건이 만족할 때만 모델의 성능이 통계학적으로 의미를 가진다.\n",
    "\n",
    "모집단 : 모든 관측값 또는 분석 대상의 전체 데이터를 의미\n",
    "표본   : 모집단의 부분 집합으로, 분석 대상 중인 전체 데이터의 일부분\n",
    "모수   : 모집단의 특징을 나타내는 수치값\n",
    "통계량 : 표본의 특징을 나타내는 수치값으로, 모수 추정을 위해 사용 평균, 중앙값, 최빈값, 분산 등과 같은 데이터를 대표하는 값.\n",
    "\n",
    "변량의 측정 : 산포는 데이터의 변량을 의미하며, 데이터가 얼마나 중심으로 모이지 않고 흩어져 있는지를 설명\n",
    "분산 : 평균과의 거리를 제곱한 값의 평균. => ∑(평균 - X)²/ N\n",
    "표준편차 : 분산의 제곱근\n",
    "범위 : 최대값과 최소값의 차이\n",
    "사분위수 : 데이터를 4등분한 값, 25% 값을 1사분위수(Q1), 50%값을 2사분위수(Q2), 75%값을 3사분위수(Q3)\n",
    "IQR : Interquartile Range. Q1과 Q3의 차이\n",
    "      Q3 + 1.5 * IQR => upper팬스 이상치\n",
    "      Q1 - 1.5 * IQR => lower팬스 이상치\n",
    "      "
   ]
  },
  {
   "cell_type": "code",
   "execution_count": 10,
   "metadata": {},
   "outputs": [
    {
     "name": "stdout",
     "output_type": "stream",
     "text": [
      "[44 47 64 ... 39 72 48]\n",
      "평균값  49.17\n",
      "중앙값 49.0\n",
      "최빈값: 3 (125)\n"
     ]
    }
   ],
   "source": [
    "import numpy as np\n",
    "from scipy import stats\n",
    "\n",
    "np.random.seed(0)\n",
    "\n",
    "data = np.random.randint(0, 100, 10000); print(data)\n",
    "\n",
    "mean = np.mean(data); print(\"평균값 \",mean.round(2))\n",
    "median = np.median(data); print(\"중앙값\", median)\n",
    "mode  = stats.mode(data); print(\"최빈값: {} ({})\".format(mode[0][0], mode[1][0]))\n"
   ]
  },
  {
   "cell_type": "code",
   "execution_count": 18,
   "metadata": {},
   "outputs": [
    {
     "name": "stdout",
     "output_type": "stream",
     "text": [
      "분산 :  662\n",
      "표준편차 :  25.729360660537214\n",
      "범위 :  79\n",
      "0% => 9.0\n",
      "25% => 42.75\n",
      "50% => 64.5\n",
      "75% => 84.0\n",
      "100% => 88.0\n",
      "IQR :  41.25\n"
     ]
    }
   ],
   "source": [
    "import numpy as np\n",
    "from statistics import variance, stdev #분산, 표준표차 구하는 함수.\n",
    "\n",
    "np.random.seed(0)\n",
    "points = np.random.randint(0, 100, 20)\n",
    "\n",
    "var = variance(points); print(\"분산 : \",var)\n",
    "std = stdev(points); print(\"표준편차 : \", std)\n",
    "range = np.max(points) - np.min(points); print(\"범위 : \", range)\n",
    "\n",
    "for val in [0, 25, 50, 75, 100]:\n",
    "    quantile = np.percentile(points, val)\n",
    "    print(\"{}% => {}\".format(val, quantile))\n",
    "\n",
    "#IQR구하기\n",
    "q1, q3 = np.percentile(points, [25, 75])\n",
    "print(\"IQR : \", q3 - q1)\n",
    "    "
   ]
  },
  {
   "cell_type": "code",
   "execution_count": null,
   "metadata": {},
   "outputs": [],
   "source": [
    "통계적 추론\n",
    " ★가설 검정:\n",
    " =>표본에 대한 통계적 테스트를 수행해 전체 모집단에 대한 추론을 만드는 과정으로, \n",
    "  귀무가설과 대립가설을 통해 가정이 통계적으로 의미검정\n",
    " =>모델링에서 각 독립 변수에 대해 0.05보다 작은 p-vlaue는 유의미하다고 간주함.\n",
    " 가설 검정의 단계:\n",
    "  =>귀무가설의 정의 -> 표본의 추출 -> \n",
    "     검정 통계량에 따른 귀무가설의 통계적유의성 확인 -> 검정통계량에 따라 귀무가설 채택 또는 기간 (p-value:0.05이하 기각, 이상 채택)\n",
    " p-value:귀무가설이 옳다는 전제 하에 표본에서 실제로 관측된 통계값과 같거나 더 극단적인 통계값이 관측될 확률\n",
    " ex)한 빵집에서 생산되는 식빵의 무게가 최종 200g이라고 주장할 경우, 표분 20개를 추출해 구한 평균 무개가 196g이고, \n",
    "    표준편차는 5.3g이었다면, 유의수준 5%(0.05)로 위의 주작을 기각할 수 있을까?\n",
    "    귀무가설 : 모든 식빵의 무게는 200g이상이다.\n",
    "    표본 : x=196, s=5.3, n=20\n",
    " "
   ]
  },
  {
   "cell_type": "code",
   "execution_count": 30,
   "metadata": {},
   "outputs": [
    {
     "name": "stdout",
     "output_type": "stream",
     "text": [
      "검정 통계량 :  -3.38\n",
      "t-table로부터의 임계값 :  -1.729\n",
      "t_bable의 아래쪽 꼬리 p값 :  0.0016\n"
     ]
    }
   ],
   "source": [
    "import numpy as np\n",
    "from scipy import stats\n",
    "\n",
    "x_bar=196\n",
    "mu=200\n",
    "sigma=5.3\n",
    "n = 20\n",
    "\n",
    "# 단일표본 t검정\n",
    "t_sample = (x_bar - mu) / (sigma / np.sqrt(float(n)))\n",
    "print(\"검정 통계량 : \", np.round(t_sample,2))\n",
    "\n",
    "alpha = 0.05\n",
    "#ppt = percent point function\n",
    "t_table = stats.t.ppf(alpha, n-1)\n",
    "print(\"t-table로부터의 임계값 : \", np.round(t_table, 3))\n",
    "\n",
    "#sf = svirval function\n",
    "p_val = stats.t.sf(np.abs(t_sample), n-1)\n",
    "print(\"t_bable의 아래쪽 꼬리 p값 : \", np.round(p_val, 4))\n",
    "\n",
    "# p-value값이 0.0016으로 유의수준보다 작으므로 귀무가설을 기각한다.\n"
   ]
  },
  {
   "cell_type": "code",
   "execution_count": 31,
   "metadata": {},
   "outputs": [
    {
     "ename": "SyntaxError",
     "evalue": "invalid syntax (<ipython-input-31-0d6d78fcf32f>, line 1)",
     "output_type": "error",
     "traceback": [
      "\u001b[1;36m  File \u001b[1;32m\"<ipython-input-31-0d6d78fcf32f>\"\u001b[1;36m, line \u001b[1;32m1\u001b[0m\n\u001b[1;33m    정규분포 :\u001b[0m\n\u001b[1;37m          ^\u001b[0m\n\u001b[1;31mSyntaxError\u001b[0m\u001b[1;31m:\u001b[0m invalid syntax\n"
     ]
    }
   ],
   "source": [
    "★정규분포 :\n",
    "    - 중심극한정리에 따르면 평균이 μ이고 분산이σ²(표준편차가σ)인 \n",
    "      모집단으로부터 가능한 모든ｎ개의 조합을 표본으로 추출하면 표본의 평균은 정규분포에 접근함.\n",
    "        \n",
    "ex)시험 접수가 정규분포를 따른가고 가정할 경우, 평균 점수가 56점이고 표준편차가 13.6인경우, 75점 이상을 받은 학생들은 몇%일까?\n"
   ]
  },
  {
   "cell_type": "code",
   "execution_count": 44,
   "metadata": {},
   "outputs": [
    {
     "name": "stdout",
     "output_type": "stream",
     "text": [
      "z_score :  1.4\n",
      "학생이 75점 이상 받을 확률 : 8.12%\n"
     ]
    }
   ],
   "source": [
    "μ = 56   #평균\n",
    "σ = 13.6 #표준편차\n",
    "x  = 75    #75점이상이 몇%인가?\n",
    "\n",
    "# 1.정규분포를 따르므로 표준정규분포로 바꿔 계산 해야 한다.\n",
    "# Z-score(표준점수) = 접수(75)-평균(56)/표준편차(13.5)\n",
    "\n",
    "import numpy as np\n",
    "from scipy import stats\n",
    "\n",
    "x_bar = 75\n",
    "mu    = 56\n",
    "sigma = 13.6\n",
    "\n",
    "#표준정규분포 계산 75점이 시그마 위치는 1.4\n",
    "z = (x_bar - mu) / sigma\n",
    "print(\"z_score : \", np.round(z, 2))\n",
    "\n",
    "#표준정규분포는 1이므로 (1 - cdf)하면 p_val를 구할 수 있다.\n",
    "p_val = 1 - stats.norm.cdf(z)\n",
    "print(\"학생이 {}점 이상 받을 확률 : {}%\".format(x_bar, np.round(p_val*100, 2)))"
   ]
  },
  {
   "cell_type": "code",
   "execution_count": null,
   "metadata": {},
   "outputs": [],
   "source": [
    "★카이제곱 독립성 검정:\n",
    "    - 범주형 데이터의 통계 분석에 가장 보편적으로 사용되는 검정으로, 2개의 범주형 변수 사이에 통계적 상관성이 존재하는지를 판단함.\n",
    "      x²= Σ (oi - ei)² oi = 관측값, ei=기대값 \n",
    "           i    ei\n",
    "   ex)흡연은 운동에 영향을 미칠까?\n"
   ]
  },
  {
   "cell_type": "code",
   "execution_count": 66,
   "metadata": {},
   "outputs": [
    {
     "data": {
      "text/html": [
       "<div>\n",
       "<style scoped>\n",
       "    .dataframe tbody tr th:only-of-type {\n",
       "        vertical-align: middle;\n",
       "    }\n",
       "\n",
       "    .dataframe tbody tr th {\n",
       "        vertical-align: top;\n",
       "    }\n",
       "\n",
       "    .dataframe thead th {\n",
       "        text-align: right;\n",
       "    }\n",
       "</style>\n",
       "<table border=\"1\" class=\"dataframe\">\n",
       "  <thead>\n",
       "    <tr style=\"text-align: right;\">\n",
       "      <th></th>\n",
       "      <th>smoke</th>\n",
       "      <th>exercise</th>\n",
       "    </tr>\n",
       "  </thead>\n",
       "  <tbody>\n",
       "    <tr>\n",
       "      <th>0</th>\n",
       "      <td>안함</td>\n",
       "      <td>심함</td>\n",
       "    </tr>\n",
       "    <tr>\n",
       "      <th>1</th>\n",
       "      <td>심함</td>\n",
       "      <td>심함</td>\n",
       "    </tr>\n",
       "    <tr>\n",
       "      <th>2</th>\n",
       "      <td>가끔</td>\n",
       "      <td>안함</td>\n",
       "    </tr>\n",
       "    <tr>\n",
       "      <th>3</th>\n",
       "      <td>안함</td>\n",
       "      <td>안함</td>\n",
       "    </tr>\n",
       "    <tr>\n",
       "      <th>4</th>\n",
       "      <td>심함</td>\n",
       "      <td>매일</td>\n",
       "    </tr>\n",
       "  </tbody>\n",
       "</table>\n",
       "</div>"
      ],
      "text/plain": [
       "  smoke exercise\n",
       "0    안함       심함\n",
       "1    심함       심함\n",
       "2    가끔       안함\n",
       "3    안함       안함\n",
       "4    심함       매일"
      ]
     },
     "execution_count": 66,
     "metadata": {},
     "output_type": "execute_result"
    }
   ],
   "source": [
    "import numpy as np\n",
    "import pandas as pd\n",
    "from scipy import stats\n",
    "\n",
    "np.random.seed(0)\n",
    "\n",
    "smoke = [\"안함\",\"가끔\",\"매일\",\"심함\"]\n",
    "exercise = [\"안함\",\"가끔\",\"매일\"]\n",
    "\n",
    "#choice 랜덤하게 500개를 추출 한다.\n",
    "data2 = {\"smoke\": np.random.choice(smoke, size=500), \"exercise\": np.random.choice(smoke, size=500)}\n",
    "df = pd.DataFrame(data2, columns = [\"smoke\", \"exercise\"])\n",
    "df.head()"
   ]
  },
  {
   "cell_type": "code",
   "execution_count": 68,
   "metadata": {},
   "outputs": [
    {
     "data": {
      "text/html": [
       "<div>\n",
       "<style scoped>\n",
       "    .dataframe tbody tr th:only-of-type {\n",
       "        vertical-align: middle;\n",
       "    }\n",
       "\n",
       "    .dataframe tbody tr th {\n",
       "        vertical-align: top;\n",
       "    }\n",
       "\n",
       "    .dataframe thead th {\n",
       "        text-align: right;\n",
       "    }\n",
       "</style>\n",
       "<table border=\"1\" class=\"dataframe\">\n",
       "  <thead>\n",
       "    <tr style=\"text-align: right;\">\n",
       "      <th>exercise</th>\n",
       "      <th>가끔</th>\n",
       "      <th>매일</th>\n",
       "      <th>심함</th>\n",
       "      <th>안함</th>\n",
       "    </tr>\n",
       "    <tr>\n",
       "      <th>smoke</th>\n",
       "      <th></th>\n",
       "      <th></th>\n",
       "      <th></th>\n",
       "      <th></th>\n",
       "    </tr>\n",
       "  </thead>\n",
       "  <tbody>\n",
       "    <tr>\n",
       "      <th>가끔</th>\n",
       "      <td>36</td>\n",
       "      <td>31</td>\n",
       "      <td>27</td>\n",
       "      <td>28</td>\n",
       "    </tr>\n",
       "    <tr>\n",
       "      <th>매일</th>\n",
       "      <td>21</td>\n",
       "      <td>34</td>\n",
       "      <td>26</td>\n",
       "      <td>30</td>\n",
       "    </tr>\n",
       "    <tr>\n",
       "      <th>심함</th>\n",
       "      <td>44</td>\n",
       "      <td>29</td>\n",
       "      <td>29</td>\n",
       "      <td>38</td>\n",
       "    </tr>\n",
       "    <tr>\n",
       "      <th>안함</th>\n",
       "      <td>30</td>\n",
       "      <td>36</td>\n",
       "      <td>29</td>\n",
       "      <td>32</td>\n",
       "    </tr>\n",
       "  </tbody>\n",
       "</table>\n",
       "</div>"
      ],
      "text/plain": [
       "exercise  가끔  매일  심함  안함\n",
       "smoke                   \n",
       "가끔        36  31  27  28\n",
       "매일        21  34  26  30\n",
       "심함        44  29  29  38\n",
       "안함        30  36  29  32"
      ]
     },
     "execution_count": 68,
     "metadata": {},
     "output_type": "execute_result"
    }
   ],
   "source": [
    "#독립성 검정을 위해서는 분할표작성(crosstab)\n",
    "xtab = pd.crosstab(df.smoke, df.exercise)\n",
    "xtab"
   ]
  },
  {
   "cell_type": "code",
   "execution_count": null,
   "metadata": {},
   "outputs": [],
   "source": [
    "#범주형 데이터 \"카이제곱검증 = 2개의 범주형 변수\"가 독립이나 아니냐 상관이 있느냐?\n",
    "# scipy에는 카이제곱 컨틴전시에 분할표 값을 넘겨주면 결과가 도출된다.\n",
    "# 컨틴전시[0]=카이제곱관련 값, 컨틴전시[1]=p-value, 컨틴전시[2]=카이제곱에서 사용하는 d 자유도\n",
    "# p-value가 0.05보다 크므로 흡연습관과 운동과는 상관관계가 없음."
   ]
  },
  {
   "cell_type": "code",
   "execution_count": 69,
   "metadata": {},
   "outputs": [
    {
     "name": "stdout",
     "output_type": "stream",
     "text": [
      "P-값 :  0.53\n"
     ]
    }
   ],
   "source": [
    "contg = stats.chi2_contingency(observed=xtab)\n",
    "p_val = np.round(contg[1],3 )\n",
    "print(\"P-값 : \", p_val)"
   ]
  },
  {
   "cell_type": "code",
   "execution_count": null,
   "metadata": {},
   "outputs": [],
   "source": [
    "★ ANOVA분산 분석\n",
    "#  - 모집단이 셋이상인 경우, 이들의 평균이 서로 동일한지 테스트함.\n",
    "#  - 귀무가설 : 모든 모집단의 평균에 차이가 없다.\n",
    "#  - 대립가설 : 적어도 하나의 모집단의 평균에 차이가 있다.\n",
    "# t-검정은 두 집단의 평균 차이, ANOVA는 셋 이상의 평규 차이 검정.\n",
    "ex) 10명의 환자를 대상으로 A, B, C세 가지 수면제 약효(수면시간)를 각각 테스트할 경우, \n",
    "    유의 수준 0.05에서 A, B, C수면제의 평균 수면시간은 동일한가.?\n"
   ]
  },
  {
   "cell_type": "code",
   "execution_count": 73,
   "metadata": {},
   "outputs": [
    {
     "data": {
      "text/html": [
       "<div>\n",
       "<style scoped>\n",
       "    .dataframe tbody tr th:only-of-type {\n",
       "        vertical-align: middle;\n",
       "    }\n",
       "\n",
       "    .dataframe tbody tr th {\n",
       "        vertical-align: top;\n",
       "    }\n",
       "\n",
       "    .dataframe thead th {\n",
       "        text-align: right;\n",
       "    }\n",
       "</style>\n",
       "<table border=\"1\" class=\"dataframe\">\n",
       "  <thead>\n",
       "    <tr style=\"text-align: right;\">\n",
       "      <th></th>\n",
       "      <th>A</th>\n",
       "      <th>B</th>\n",
       "      <th>C</th>\n",
       "    </tr>\n",
       "  </thead>\n",
       "  <tbody>\n",
       "    <tr>\n",
       "      <th>0</th>\n",
       "      <td>5.5</td>\n",
       "      <td>7.2</td>\n",
       "      <td>6.0</td>\n",
       "    </tr>\n",
       "    <tr>\n",
       "      <th>1</th>\n",
       "      <td>5.4</td>\n",
       "      <td>4.2</td>\n",
       "      <td>6.5</td>\n",
       "    </tr>\n",
       "    <tr>\n",
       "      <th>2</th>\n",
       "      <td>4.4</td>\n",
       "      <td>8.9</td>\n",
       "      <td>9.6</td>\n",
       "    </tr>\n",
       "    <tr>\n",
       "      <th>3</th>\n",
       "      <td>3.8</td>\n",
       "      <td>7.9</td>\n",
       "      <td>5.3</td>\n",
       "    </tr>\n",
       "    <tr>\n",
       "      <th>4</th>\n",
       "      <td>5.7</td>\n",
       "      <td>9.3</td>\n",
       "      <td>0.7</td>\n",
       "    </tr>\n",
       "    <tr>\n",
       "      <th>5</th>\n",
       "      <td>0.9</td>\n",
       "      <td>0.2</td>\n",
       "      <td>8.3</td>\n",
       "    </tr>\n",
       "    <tr>\n",
       "      <th>6</th>\n",
       "      <td>7.8</td>\n",
       "      <td>8.7</td>\n",
       "      <td>9.8</td>\n",
       "    </tr>\n",
       "    <tr>\n",
       "      <th>7</th>\n",
       "      <td>8.0</td>\n",
       "      <td>4.6</td>\n",
       "      <td>7.8</td>\n",
       "    </tr>\n",
       "    <tr>\n",
       "      <th>8</th>\n",
       "      <td>1.2</td>\n",
       "      <td>6.4</td>\n",
       "      <td>1.4</td>\n",
       "    </tr>\n",
       "    <tr>\n",
       "      <th>9</th>\n",
       "      <td>9.4</td>\n",
       "      <td>5.2</td>\n",
       "      <td>4.1</td>\n",
       "    </tr>\n",
       "  </tbody>\n",
       "</table>\n",
       "</div>"
      ],
      "text/plain": [
       "     A    B    C\n",
       "0  5.5  7.2  6.0\n",
       "1  5.4  4.2  6.5\n",
       "2  4.4  8.9  9.6\n",
       "3  3.8  7.9  5.3\n",
       "4  5.7  9.3  0.7\n",
       "5  0.9  0.2  8.3\n",
       "6  7.8  8.7  9.8\n",
       "7  8.0  4.6  7.8\n",
       "8  1.2  6.4  1.4\n",
       "9  9.4  5.2  4.1"
      ]
     },
     "execution_count": 73,
     "metadata": {},
     "output_type": "execute_result"
    }
   ],
   "source": [
    "import numpy as np\n",
    "import pandas as pd\n",
    "from scipy import stats\n",
    "\n",
    "np.random.seed(0)\n",
    "\n",
    "# 랜덤 30개 숫자 소숫점 2자리 반올림에 10을 곱하고, 30개를 3열로 나열한다.\n",
    "data = (np.random.rand(30).round(2) * 10).reshape(-1, 3)\n",
    "df = pd.DataFrame(data, columns = [\"A\", \"B\", \"C\"])\n",
    "df\n"
   ]
  },
  {
   "cell_type": "code",
   "execution_count": 75,
   "metadata": {
    "scrolled": true
   },
   "outputs": [
    {
     "name": "stdout",
     "output_type": "stream",
     "text": [
      "통계량 : 0.34, p-value : 0.713\n"
     ]
    }
   ],
   "source": [
    "# stat.f_oneway 분산분석은 f분포를 따르는 f통계량사용, ANOVA(F검정)[1개의 범주형(f_oneway), 2개이상 범주형(일때]\n",
    "# P-value가 0.713으로 귀무가설(세개의 수면제 약효 평균이 동일하다) 채택\n",
    "one_way_anova = stats.f_oneway(df.A, df.B, df.C)\n",
    "print(\"통계량 : {}, p-value : {}\". format(np.round(one_way_anova[0],2), np.round(one_way_anova[1],3)))"
   ]
  },
  {
   "cell_type": "code",
   "execution_count": null,
   "metadata": {},
   "outputs": [],
   "source": []
  },
  {
   "cell_type": "code",
   "execution_count": null,
   "metadata": {},
   "outputs": [],
   "source": []
  }
 ],
 "metadata": {
  "kernelspec": {
   "display_name": "Python 3",
   "language": "python",
   "name": "python3"
  },
  "language_info": {
   "codemirror_mode": {
    "name": "ipython",
    "version": 3
   },
   "file_extension": ".py",
   "mimetype": "text/x-python",
   "name": "python",
   "nbconvert_exporter": "python",
   "pygments_lexer": "ipython3",
   "version": "3.7.3"
  }
 },
 "nbformat": 4,
 "nbformat_minor": 2
}
