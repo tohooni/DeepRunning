{
 "cells": [
  {
   "cell_type": "code",
   "execution_count": 15,
   "metadata": {},
   "outputs": [],
   "source": [
    "##### 선형회귀 모델의 적용 #####\n",
    "#모델 클래스와 모델 파라미터의 선택\n",
    "\n",
    "#문제  회귀 sklearn -> LinearRegression(모델 클래스) -> instance -> fit() -> preditc()\n",
    "#      분류\n",
    "\n",
    "import numpy as np\n",
    "import pandas as pd\n",
    "import matplotlib.pyplot as plt\n",
    "from sklearn.linear_model import LinearRegression\n",
    "\n",
    "\n",
    "# fit_intercept = True : 상수항을 사용하지 여부 [ y = α(상수항) + βx]\n",
    "model = LinearRegression(fit_intercept = True)\n"
   ]
  },
  {
   "cell_type": "code",
   "execution_count": 6,
   "metadata": {},
   "outputs": [],
   "source": [
    "# 와인 데이터를 가져와서 레트와인과 화이트와인 합친다.\n",
    "redwine = pd.read_csv(\"https://archive.ics.uci.edu/ml/machine-learning-databases/wine-quality/winequality-red.csv\",\n",
    "                      sep=\";\", header=0)\n",
    "whitewine = pd.read_csv(\"https://archive.ics.uci.edu/ml/machine-learning-databases/wine-quality/winequality-white.csv\",\n",
    "                      sep=\";\", header=0)\n",
    "\n",
    "redwine[\"type\"] = \"red\"\n",
    "whitewine[\"type\"] = \"white\"\n",
    "wine = redwine.append(whitewine)"
   ]
  },
  {
   "cell_type": "code",
   "execution_count": 10,
   "metadata": {},
   "outputs": [
    {
     "data": {
      "text/plain": [
       "(6497, 11)"
      ]
     },
     "execution_count": 10,
     "metadata": {},
     "output_type": "execute_result"
    }
   ],
   "source": [
    "# 특징행렬과 대상 벡터의 추출\n",
    "# 특징행렬에서 type과 결과값인 quality 를 제거한다.\n",
    "# 해당 특징행렬은 m(훈련데이터:행) x n(특징:열)의 구조임. \n",
    "X = wine.drop([\"type\",\"quality\"], axis=1)\n",
    "X.shape"
   ]
  },
  {
   "cell_type": "code",
   "execution_count": 11,
   "metadata": {},
   "outputs": [
    {
     "data": {
      "text/plain": [
       "(6497,)"
      ]
     },
     "execution_count": 11,
     "metadata": {},
     "output_type": "execute_result"
    }
   ],
   "source": [
    "# 대상 벡터는  quality값만 가져온다.\n",
    "y = wine.quality\n",
    "y.shape"
   ]
  },
  {
   "cell_type": "code",
   "execution_count": 12,
   "metadata": {},
   "outputs": [
    {
     "data": {
      "text/plain": [
       "((4872, 11), (1625, 11), (4872,), (1625,))"
      ]
     },
     "execution_count": 12,
     "metadata": {},
     "output_type": "execute_result"
    }
   ],
   "source": [
    "# 훈련 데이터와 테스트 데이터의 분리\n",
    "# 특징행렬 (훈련, 테스트), 대상벡터(훈련, 테스트)\n",
    "# 특징 행렬은 대문자(X)는 2차원구조, 대상 벡터는 소문자(y)는 1차원 구조다 암묵적인 관례.\n",
    "\n",
    "from sklearn.model_selection import train_test_split\n",
    "\n",
    "# test_size를 설정하지 않으면 default로 훈련 75%, 테스트 25%로 만들어 진다.\n",
    "X_train, X_test, y_train, y_test = train_test_split(X, y, random_state=1)\n",
    "X_train.shape, X_test.shape, y_train.shape, y_test.shape"
   ]
  },
  {
   "cell_type": "code",
   "execution_count": 17,
   "metadata": {},
   "outputs": [
    {
     "data": {
      "text/plain": [
       "LinearRegression(copy_X=True, fit_intercept=True, n_jobs=None,\n",
       "         normalize=False)"
      ]
     },
     "execution_count": 17,
     "metadata": {},
     "output_type": "execute_result"
    }
   ],
   "source": [
    "# 모델의 데이터 적합.\n",
    "model.fit(X_train, y_train)"
   ]
  },
  {
   "cell_type": "code",
   "execution_count": 18,
   "metadata": {},
   "outputs": [
    {
     "data": {
      "text/plain": [
       "array([ 5.55618691e-02, -1.29945358e+00, -1.08205046e-01,  4.52070539e-02,\n",
       "       -3.95901596e-01,  5.76479819e-03, -2.47760359e-03, -5.30023471e+01,\n",
       "        3.50283862e-01,  7.49149475e-01,  2.78530060e-01])"
      ]
     },
     "execution_count": 18,
     "metadata": {},
     "output_type": "execute_result"
    }
   ],
   "source": [
    "# 파라미터는 학습 과정에서 자동으로 설정되는 매개변수.\n",
    "# 하이퍼 파라미터 개발자가 어떤 모델을 컨트롤 하기 위해서 제어하기 위해서 사용하는값.\n",
    "\n",
    "# 다중 선형 회귀, 특징이 모델의 파라미터값 11개  개수, \n",
    "model.coef_"
   ]
  },
  {
   "cell_type": "code",
   "execution_count": 19,
   "metadata": {},
   "outputs": [
    {
     "data": {
      "text/plain": [
       "54.05800385466521"
      ]
     },
     "execution_count": 19,
     "metadata": {},
     "output_type": "execute_result"
    }
   ],
   "source": [
    "# 상수항 값.\n",
    "model.intercept_"
   ]
  },
  {
   "cell_type": "code",
   "execution_count": 20,
   "metadata": {},
   "outputs": [],
   "source": [
    "# 모델을 새로운 데이터에 적용\n",
    "newdata = np.array([6.3, 0.3, 0.34, 1.6, 0.049, 14, 132, 0.994, 3.3, 0.49, 9.5])"
   ]
  },
  {
   "cell_type": "code",
   "execution_count": 21,
   "metadata": {},
   "outputs": [
    {
     "data": {
      "text/plain": [
       "array([5.27273597])"
      ]
     },
     "execution_count": 21,
     "metadata": {},
     "output_type": "execute_result"
    }
   ],
   "source": [
    "# 예측하기\n",
    "# 입력값이 1차원이라 X에 맞게 2차원으로 변경한다.\n",
    "model.predict(np.reshape(newdata,(1,11)))"
   ]
  },
  {
   "cell_type": "code",
   "execution_count": 46,
   "metadata": {},
   "outputs": [
    {
     "data": {
      "text/plain": [
       "(1625,)"
      ]
     },
     "execution_count": 46,
     "metadata": {},
     "output_type": "execute_result"
    }
   ],
   "source": [
    "# 테스트 데이터를 예측 해본다.\n",
    "y_pred = model.predict(X_test)\n",
    "y_pred.shape"
   ]
  },
  {
   "cell_type": "code",
   "execution_count": null,
   "metadata": {},
   "outputs": [],
   "source": [
    "# 예측값과 실제값을 비교해본다.\n",
    "\n"
   ]
  },
  {
   "cell_type": "code",
   "execution_count": 47,
   "metadata": {},
   "outputs": [],
   "source": [
    "#### 선형회귀 모델의 성능 측정 ####\n",
    "# 모델의 성능 측정\n",
    "#     - 회귀 모델의 예측 능력 평가 지표:\n",
    "#         평균 제곱근 오차 RMSE(Root Mean Square Error)\n",
    "#     - 평균 제곱근 오차는 분산의 제곱근, 즉 표준 오차가 됨.    \n",
    "#      - 0과 1사이의 값을 구하는데 0에 가까울수록 오차가 덜하다."
   ]
  },
  {
   "cell_type": "code",
   "execution_count": 48,
   "metadata": {},
   "outputs": [],
   "source": [
    "# 모델 성능을 측정하는 RMSE 함수를 만들어 보자.\n",
    "# def rmse(y_real, y_pred):\n",
    "#     return np.sqrt(np.mean((y_real - y_pred)**2))\n",
    "\n",
    "# np.round(rmse(y_test, y_pred),2)"
   ]
  },
  {
   "cell_type": "code",
   "execution_count": 50,
   "metadata": {},
   "outputs": [
    {
     "data": {
      "text/plain": [
       "0.73"
      ]
     },
     "execution_count": 50,
     "metadata": {},
     "output_type": "execute_result"
    }
   ],
   "source": [
    "# RMSE함수를 제공하는 라이브러리를 사용해보자\n",
    "from sklearn.metrics import mean_squared_error\n",
    "\n",
    "# RMSE함수 = mean_squared_error(y_test, y_pred) -> np.sqrt(루트를 씌운다.)\n",
    "np.round(np.sqrt(mean_squared_error(y_test, y_pred)),2)"
   ]
  },
  {
   "cell_type": "code",
   "execution_count": 60,
   "metadata": {},
   "outputs": [
    {
     "data": {
      "text/plain": [
       "0.725"
      ]
     },
     "execution_count": 60,
     "metadata": {},
     "output_type": "execute_result"
    }
   ],
   "source": [
    "#### 실습 ####\n",
    "\n",
    "#사용할 모델 선택, 선형 회귀모델\n",
    "from sklearn.linear_model import LinearRegression\n",
    "\n",
    "lr = LinearRegression(fit_intercept=True)\n",
    "\n",
    "# 특징행렬과 대상 벡터 분리\n",
    "X = wine.drop([\"type\", \"quality\"], axis=1)\n",
    "y = wine.quality\n",
    "\n",
    "# 훈련데이터와 테스트 데이터 분리\n",
    "from sklearn.model_selection import train_test_split\n",
    "\n",
    "X_train, X_test, y_train, y_test = train_test_split(X, y, random_state=1)\n",
    "\n",
    "# 모델 훈련\n",
    "lr.fit(X_train, y_train)\n",
    "\n",
    "# 11특징에대한 코에피션트\n",
    "lr.coef_\n",
    "\n",
    "# 상수항 구하기\n",
    "lr.intercept_\n",
    "\n",
    "# 테스트 데이터로 예측 해보기\n",
    "y_pred = lr.predict(X_test)\n",
    "\n",
    "# 성능 테스트\n",
    "from sklearn.metrics import mean_squared_error\n",
    "# 실제값과 예측값을 넣어서 성능 데이터 구하기.\n",
    "# np.sqrt(mean_squared_error(y_test, y_pred))\n",
    "# round로 소숫점값 정비.\n",
    "np.round(np.sqrt(mean_squared_error(y_test, y_pred)), 3)\n",
    "\n",
    "\n"
   ]
  },
  {
   "cell_type": "code",
   "execution_count": 90,
   "metadata": {},
   "outputs": [],
   "source": [
    "# 실제 엑셀로 코에피션값과 상수값으로 방정식을 만들어 값을 예측해보자.\n",
    "\n"
   ]
  },
  {
   "cell_type": "code",
   "execution_count": null,
   "metadata": {},
   "outputs": [],
   "source": []
  },
  {
   "cell_type": "code",
   "execution_count": 96,
   "metadata": {},
   "outputs": [
    {
     "data": {
      "text/plain": [
       "0.727"
      ]
     },
     "execution_count": 96,
     "metadata": {},
     "output_type": "execute_result"
    }
   ],
   "source": [
    "#### 규제가 있는 선형 회귀 모델 ####\n",
    "# 규제가 있는 선형 회귀 모델 3가지 : 리지, 라쏘, 엘라스팅넷(리지와 라쏘를 결합.)\n",
    "# 규제가 있는 선형 회귀 모델의 필요성.\n",
    "    - 과분산 모델에 대해 모델을 규제하면 오버피팅을 감소시킬 수 있음.\n",
    "    - 규제란 오버피팅된 파라미터 값에 대해 페널티를 부여하는 것\n",
    "    - 페널티를 추가하게 되면 규제가 없는 회귀 모델보다 계수의 절대값이 작아지게 되는 원리를 이용해 오버피팅을 방지할 수 있음.\n",
    "    - 페널티를 가한다는 것은 편향을 높인다는 것을 의미하며, 규제가 없는 모델보다 훈련 데이터와의 적합도가 떨어지지만 \n",
    "       전체적인 결과는 좋아짐,.\n",
    "    - 오버피팅된 모델은 지나친 노이즈를 반영할 수 있으므로 모델을 단순화 하여 좀 더 일 반화된 모델로 만들 필요가 있음.\n",
    "       [규제를 두어 모델을 단순화 할 수 있는 선형 회귀 모델이 필요함.]\n",
    "        \n",
    "# 리지 회귀 모델\n",
    "from sklearn.linear_model import Ridge\n",
    "model = Ridge(alpha=0.05)\n",
    "model.fit(X_train,y_train)\n",
    "y_pred = model.predict(X_test)\n",
    "np.round(np.sqrt(mean_squared_error(y_test, y_pred)),3)\n",
    "\n",
    "# 라쏘 회귀 모델\n",
    "from sklearn.linear_model import Lasso\n",
    "model = Lasso(alpha=0.05)\n",
    "model.fit(X_train, y_train)\n",
    "y_pred = model.predict(X_test)\n",
    "np.round(np.sqrt(mean_squared_error(y_test, y_pred)),3)"
   ]
  },
  {
   "cell_type": "code",
   "execution_count": 122,
   "metadata": {},
   "outputs": [
    {
     "data": {
      "text/plain": [
       "Text(0.5, 1.0, 'ridge: alpha = 50, rmse=0.733')"
      ]
     },
     "execution_count": 122,
     "metadata": {},
     "output_type": "execute_result"
    },
    {
     "data": {
      "image/png": "[encoded data removed]",
      "text/plain": [
       "<Figure size 432x216 with 1 Axes>"
      ]
     },
     "metadata": {
      "needs_background": "light"
     },
     "output_type": "display_data"
    }
   ],
   "source": [
    "# 리지 회귀 모델\n",
    "from sklearn.linear_model import Ridge\n",
    "model_name = \"ridge\"\n",
    "alpha = 50 #값을 변화 하면서 테스트\n",
    "fig = plt.figure(figsize=(6,3))\n",
    "ax = fig.add_subplot(111)\n",
    "ridge = Ridge(alpha = alpha)\n",
    "ridge.fit(X_train, y_train)\n",
    "y_pred = ridge.predict(X_test)\n",
    "rmse = np.round(np.sqrt(mean_squared_error(y_test, y_pred)),3)\n",
    "coef = pd.Series(ridge.coef_, index=X_train.columns).sort_values()\n",
    "\n",
    "ax.bar(coef.index, coef.values)\n",
    "ax.set_xticklabels(coef.index, rotation = 90)\n",
    "ax.set_title(\"{0}: alpha = {1}, rmse={2}\".format(model_name, alpha, rmse))"
   ]
  },
  {
   "cell_type": "code",
   "execution_count": 124,
   "metadata": {},
   "outputs": [],
   "source": [
    "# 리지 회귀 모델 실습\n",
    "\n",
    "from sklearn.linear_model import Ridge\n",
    "from sklearn.model_selection import train_test_split\n",
    "from sklearn.metrics import mean_squared_error\n",
    "import numpy as np\n",
    "import pandas as pd\n",
    "import matplotlib.pyplot as plt\n",
    "%matplotlib inline\n",
    "\n",
    "model_name = \"ridge\"\n",
    "alpha = 50 #값을 변화 하면서 테스트\n",
    "\n",
    "ridge = Ridge(alpha=alpha)\n",
    "\n",
    "# 와인 데이터를 가져와서 레트와인과 화이트와인 합친다.\n",
    "redwine = pd.read_csv(\"https://archive.ics.uci.edu/ml/machine-learning-databases/wine-quality/winequality-red.csv\",\n",
    "                      sep=\";\", header=0)\n",
    "whitewine = pd.read_csv(\"https://archive.ics.uci.edu/ml/machine-learning-databases/wine-quality/winequality-white.csv\",\n",
    "                      sep=\";\", header=0)\n",
    "\n",
    "redwine[\"type\"] = \"red\"\n",
    "whitewine[\"type\"] = \"white\"\n",
    "wine = redwine.append(whitewine)\n",
    "\n",
    "X = wine.drop([\"type\",\"quality\"], axis=1)\n",
    "y = wine.quality\n",
    "\n",
    "X_train, X_test, y_train, y_test = train_test_split(X, y, random_state=1)\n",
    "\n",
    "ridge.fit(X_train, y_train)\n",
    "\n",
    "y_pred = ridge.predict(X_test)\n",
    "\n",
    "ridge.coef_\n",
    "\n",
    "ridge.intercept_\n"
   ]
  },
  {
   "cell_type": "code",
   "execution_count": 126,
   "metadata": {},
   "outputs": [
    {
     "data": {
      "text/plain": [
       "Text(0.5, 1.0, 'ridge: alpha = 50, rmse=0.733')"
      ]
     },
     "execution_count": 126,
     "metadata": {},
     "output_type": "execute_result"
    },
    {
     "data": {
      "image/png": "[encoded data removed]",
      "text/plain": [
       "<Figure size 432x216 with 1 Axes>"
      ]
     },
     "metadata": {
      "needs_background": "light"
     },
     "output_type": "display_data"
    }
   ],
   "source": [
    "# 리지모델 코에피션값으로 그래프 그리기.\n",
    "coef = pd.Series(ridge.coef_, index=X_train.columns).sort_values()\n",
    "rmse = np.round(np.sqrt(mean_squared_error(y_test, y_pred)), 3)\n",
    "\n",
    "fig = plt.figure(figsize=(6,3))\n",
    "ax = fig.add_subplot(111)\n",
    "\n",
    "ax.bar(coef.index, coef.values)\n",
    "ax.set_xticklabels(coef.index, rotation = 90)\n",
    "ax.set_title(\"{0}: alpha = {1}, rmse={2}\".format(model_name, alpha, rmse))"
   ]
  },
  {
   "cell_type": "code",
   "execution_count": 130,
   "metadata": {},
   "outputs": [],
   "source": [
    "# 라쏘 회귀 모델\n",
    "\n",
    "from sklearn.linear_model import Lasso\n",
    "from sklearn.model_selection import train_test_split\n",
    "from sklearn.metrics import mean_squared_error\n",
    "import numpy as np\n",
    "import pandas as pd\n",
    "import matplotlib.pyplot as plt\n",
    "%matplotlib inline\n",
    "\n",
    "\n",
    "# 와인 데이터를 가져와서 레트와인과 화이트와인 합친다.\n",
    "redwine = pd.read_csv(\"https://archive.ics.uci.edu/ml/machine-learning-databases/wine-quality/winequality-red.csv\",\n",
    "                      sep=\";\", header=0)\n",
    "whitewine = pd.read_csv(\"https://archive.ics.uci.edu/ml/machine-learning-databases/wine-quality/winequality-white.csv\",\n",
    "                      sep=\";\", header=0)\n"
   ]
  },
  {
   "cell_type": "code",
   "execution_count": 141,
   "metadata": {},
   "outputs": [],
   "source": [
    "model_name = \"ridge\"\n",
    "alpha = 0.05 #값을 변화 하면서 테스트\n",
    "lasso = Lasso(alpha=alpha)\n",
    "\n",
    "redwine[\"type\"]   = \"red\"\n",
    "whitewine[\"type\"] = \"white\"\n",
    "wine = redwine.append(whitewine)\n",
    "\n",
    "X = wine.drop([\"type\",\"quality\"], axis=1)\n",
    "y = wine.quality\n",
    "\n",
    "X_train, X_test, y_train, y_test = train_test_split(X, y, random_state=1)\n",
    "\n",
    "lasso.fit(X_train, y_train)\n",
    "\n",
    "y_pred = lasso.predict(X_test)\n",
    "\n",
    "rmse = np.round(np.sqrt(mean_squared_error(y_test, y_pred)),3)\n",
    "coef = pd.Series(lasso.coef_, index=X_test.columns).sort_values()\n"
   ]
  },
  {
   "cell_type": "code",
   "execution_count": 144,
   "metadata": {},
   "outputs": [
    {
     "data": {
      "text/plain": [
       "Text(0.5, 1.0, 'alpha 0.05 ')"
      ]
     },
     "execution_count": 144,
     "metadata": {},
     "output_type": "execute_result"
    },
    {
     "data": {
      "image/png": "[encoded data removed]",
      "text/plain": [
       "<Figure size 432x216 with 1 Axes>"
      ]
     },
     "metadata": {
      "needs_background": "light"
     },
     "output_type": "display_data"
    }
   ],
   "source": [
    "fig = plt.figure(figsize=[6,3])\n",
    "ax = fig.add_subplot(111)\n",
    "\n",
    "#x, y에 뿌려질 값.\n",
    "ax.bar(coef.index, coef.values)\n",
    "ax.set_xticklabels(coef.index, rotation=90)\n",
    "ax.set_title(\"alpha {} \".format(alpha))"
   ]
  },
  {
   "cell_type": "code",
   "execution_count": null,
   "metadata": {},
   "outputs": [],
   "source": []
  },
  {
   "cell_type": "code",
   "execution_count": null,
   "metadata": {},
   "outputs": [],
   "source": []
  }
 ],
 "metadata": {
  "kernelspec": {
   "display_name": "Python 3",
   "language": "python",
   "name": "python3"
  },
  "language_info": {
   "codemirror_mode": {
    "name": "ipython",
    "version": 3
   },
   "file_extension": ".py",
   "mimetype": "text/x-python",
   "name": "python",
   "nbconvert_exporter": "python",
   "pygments_lexer": "ipython3",
   "version": "3.7.3"
  }
 },
 "nbformat": 4,
 "nbformat_minor": 2
}
