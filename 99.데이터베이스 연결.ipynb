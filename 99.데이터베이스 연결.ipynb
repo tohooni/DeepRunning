{
 "cells": [
  {
   "cell_type": "code",
   "execution_count": 3,
   "metadata": {},
   "outputs": [
    {
     "ename": "DatabaseError",
     "evalue": "DPI-1047: Cannot locate a 64-bit Oracle Client library: \"The specified module could not be found\". See https://cx-oracle.readthedocs.io/en/latest/user_guide/installation.html for help",
     "output_type": "error",
     "traceback": [
      "\u001b[1;31m---------------------------------------------------------------------------\u001b[0m",
      "\u001b[1;31mDatabaseError\u001b[0m                             Traceback (most recent call last)",
      "\u001b[1;32m<ipython-input-3-8239b0440d3d>\u001b[0m in \u001b[0;36m<module>\u001b[1;34m\u001b[0m\n\u001b[0;32m     10\u001b[0m \u001b[1;33m\u001b[0m\u001b[0m\n\u001b[0;32m     11\u001b[0m \u001b[1;31m# 연결정보 설정.\u001b[0m\u001b[1;33m\u001b[0m\u001b[1;33m\u001b[0m\u001b[1;33m\u001b[0m\u001b[0m\n\u001b[1;32m---> 12\u001b[1;33m \u001b[0mconn\u001b[0m \u001b[1;33m=\u001b[0m \u001b[0mcx_Oracle\u001b[0m\u001b[1;33m.\u001b[0m\u001b[0mconnect\u001b[0m\u001b[1;33m(\u001b[0m\u001b[1;34m\"사용자이름\"\u001b[0m\u001b[1;33m,\u001b[0m \u001b[1;34m\"비밀번호\"\u001b[0m\u001b[1;33m,\u001b[0m \u001b[1;34m\"호스트이름:포트/서비스이름\"\u001b[0m\u001b[1;33m)\u001b[0m\u001b[1;33m\u001b[0m\u001b[1;33m\u001b[0m\u001b[0m\n\u001b[0m\u001b[0;32m     13\u001b[0m \u001b[0mcursor\u001b[0m \u001b[1;33m=\u001b[0m \u001b[0mconnection\u001b[0m\u001b[1;33m.\u001b[0m\u001b[0mcursor\u001b[0m\u001b[1;33m(\u001b[0m\u001b[1;33m)\u001b[0m\u001b[1;33m\u001b[0m\u001b[1;33m\u001b[0m\u001b[0m\n\u001b[0;32m     14\u001b[0m \u001b[1;33m\u001b[0m\u001b[0m\n",
      "\u001b[1;31mDatabaseError\u001b[0m: DPI-1047: Cannot locate a 64-bit Oracle Client library: \"The specified module could not be found\". See https://cx-oracle.readthedocs.io/en/latest/user_guide/installation.html for help"
     ]
    }
   ],
   "source": [
    "#################### Oracle 데이터베이스 연결 ####################\n",
    "import cx_Oracle\n",
    "import os\n",
    "\n",
    "#오라클 클라이언트 위치 설정\n",
    "LOCATION = r\"C:\\instantclient_19_8\"\n",
    "\n",
    "#환경변수 등록\n",
    "os.environ[\"PATH\"] = LOCATION + \";\" + os.environ[\"PATH\"]\n",
    "\n",
    "# 연결정보 설정.\n",
    "conn = cx_Oracle.connect(\"사용자이름\", \"비밀번호\", \"호스트이름:포트/서비스이름\")\n",
    "cursor = connection.cursor()\n",
    "\n",
    "\n",
    "# SQL\n",
    "cursor.execute(\"select employee_id from employees\")\n",
    "for i in cursor:\n",
    "    print(i)\n",
    "\n",
    "\n",
    "#SQL DataFrame으로 불러오기\n",
    "df=pd.real_sql(\"\"\" sql 구문 적기 \"\"\" , con = conn)"
   ]
  },
  {
   "cell_type": "code",
   "execution_count": 4,
   "metadata": {},
   "outputs": [],
   "source": [
    "#################### Mysql 데이터베이스 연결 ####################\n",
    "import pymysql\n",
    "\n",
    "## 조회  SQL\n",
    "conn = pymysql.connect(host=\"localhost\", user=\"root\",password=\"\",db=\"testdb\",charset=\"utf8\")\n",
    "\n",
    "try:\n",
    "    curs = conn.cursor()\n",
    "    sql = \"select * from user\"\n",
    "    curs.execute(sql)\n",
    "    rows = curs.fetchall()\n",
    "    \n",
    "    for row in rows:\n",
    "        print(row)\n",
    "\n",
    "finally:\n",
    "    conn.close()\n",
    "    \n",
    "# 처리 SQL\n",
    "conn = pymysql.connect(host=\"localhost\", user=\"root\",password=\"\",db=\"testdb\",charset=\"utf8\")\n",
    "\n",
    "try:\n",
    "    curs = conn.cursor()\n",
    "    sql = \"update user set region='개나리'\"\n",
    "    curs.execute(sql)\n",
    "    conn.commit()\n",
    "\n",
    "finally:\n",
    "    conn.close()   "
   ]
  },
  {
   "cell_type": "code",
   "execution_count": null,
   "metadata": {},
   "outputs": [],
   "source": []
  }
 ],
 "metadata": {
  "kernelspec": {
   "display_name": "Python 3",
   "language": "python",
   "name": "python3"
  },
  "language_info": {
   "codemirror_mode": {
    "name": "ipython",
    "version": 3
   },
   "file_extension": ".py",
   "mimetype": "text/x-python",
   "name": "python",
   "nbconvert_exporter": "python",
   "pygments_lexer": "ipython3",
   "version": "3.7.3"
  }
 },
 "nbformat": 4,
 "nbformat_minor": 2
}
