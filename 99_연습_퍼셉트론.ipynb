{
  "nbformat": 4,
  "nbformat_minor": 0,
  "metadata": {
    "colab": {
      "name": "99_연습_퍼셉트론",
      "provenance": [],
      "authorship_tag": "ABX9TyPBcUgyM2a5bsZ6nRWlt+Nz",
      "include_colab_link": true
    },
    "kernelspec": {
      "name": "python3",
      "display_name": "Python 3"
    },
    "accelerator": "GPU"
  },
  "cells": [
    {
      "cell_type": "markdown",
      "metadata": {
        "id": "view-in-github",
        "colab_type": "text"
      },
      "source": [
        "<a href=\"https://colab.research.google.com/github/tohooni/DeepRunning/blob/master/99_%EC%97%B0%EC%8A%B5_%ED%8D%BC%EC%85%89%ED%8A%B8%EB%A1%A0.ipynb\" target=\"_parent\"><img src=\"https://colab.research.google.com/assets/colab-badge.svg\" alt=\"Open In Colab\"/></a>"
      ]
    },
    {
      "cell_type": "code",
      "metadata": {
        "id": "37qvsMaEz1vQ",
        "colab_type": "code",
        "colab": {}
      },
      "source": [
        "import numpy as np"
      ],
      "execution_count": 0,
      "outputs": []
    },
    {
      "cell_type": "code",
      "metadata": {
        "id": "WKahM4By0uvX",
        "colab_type": "code",
        "colab": {}
      },
      "source": [
        "def AND_basic(x1, x2):\n",
        "  w1,w2,theta = 0.9, 0.9, 0.5\n",
        "  tmp = x1*w1 + x2*w2\n",
        "  if tmp <= theta:\n",
        "    return 0\n",
        "  elif tmp > theta:\n",
        "    return 1"
      ],
      "execution_count": 0,
      "outputs": []
    },
    {
      "cell_type": "code",
      "metadata": {
        "id": "RS9pZI3JDkeV",
        "colab_type": "code",
        "colab": {
          "base_uri": "https://localhost:8080/",
          "height": 89
        },
        "outputId": "7c6f2f46-2ed4-43e9-9e87-a7e5b9f6bada"
      },
      "source": [
        "inputs = [(0,0),(1,0),(0,1),(1,1)]\n",
        "\n",
        "for x1, x2 in inputs:\n",
        "  y = AND_basic(x1, x2)\n",
        "  print('({x1}, {x2}) -> {y}'.format(x1=x1, x2=x2, y=y))"
      ],
      "execution_count": 17,
      "outputs": [
        {
          "output_type": "stream",
          "text": [
            "(0, 0) -> 0\n",
            "(1, 0) -> 1\n",
            "(0, 1) -> 1\n",
            "(1, 1) -> 1\n"
          ],
          "name": "stdout"
        }
      ]
    },
    {
      "cell_type": "code",
      "metadata": {
        "id": "6nHcH_POmRC9",
        "colab_type": "code",
        "colab": {}
      },
      "source": [
        "def AND(x1, x2):\n",
        "  x = np.array([x1,x2])\n",
        "  w = np.array([0.5,0.5])\n",
        "  b = -0.7\n",
        "  tmp = np.sum(w*x) + b\n",
        "  print(tmp)\n",
        "  if tmp <= 0:\n",
        "    return 0\n",
        "  else:\n",
        "    return 1\n"
      ],
      "execution_count": 0,
      "outputs": []
    },
    {
      "cell_type": "code",
      "metadata": {
        "id": "8xvULSExn-2x",
        "colab_type": "code",
        "colab": {
          "base_uri": "https://localhost:8080/",
          "height": 161
        },
        "outputId": "609ca566-a9a6-41ef-cda1-9a9d6d8e0578"
      },
      "source": [
        "inputs = [(0,0),(1,0),(0,1),(1,1)]\n",
        "\n",
        "for x1, x2 in inputs:\n",
        "  y = AND(x1, x2)\n",
        "  print('({x1}, {x2}) -> {y}'.format(x1=x1, x2=x2, y=y))"
      ],
      "execution_count": 21,
      "outputs": [
        {
          "output_type": "stream",
          "text": [
            "-0.7\n",
            "(0, 0) -> 0\n",
            "-0.19999999999999996\n",
            "(1, 0) -> 0\n",
            "-0.19999999999999996\n",
            "(0, 1) -> 0\n",
            "0.30000000000000004\n",
            "(1, 1) -> 1\n"
          ],
          "name": "stdout"
        }
      ]
    },
    {
      "cell_type": "code",
      "metadata": {
        "id": "Jq17fjqvoJHb",
        "colab_type": "code",
        "colab": {}
      },
      "source": [
        ""
      ],
      "execution_count": 0,
      "outputs": []
    }
  ]
}