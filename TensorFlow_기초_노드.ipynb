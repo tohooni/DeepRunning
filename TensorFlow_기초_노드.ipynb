{
  "nbformat": 4,
  "nbformat_minor": 0,
  "metadata": {
    "colab": {
      "name": "TensorFlow 기초_노드.ipynb",
      "provenance": [],
      "include_colab_link": true
    },
    "kernelspec": {
      "name": "python3",
      "display_name": "Python 3"
    }
  },
  "cells": [
    {
      "cell_type": "markdown",
      "metadata": {
        "id": "view-in-github",
        "colab_type": "text"
      },
      "source": [
        "<a href=\"https://colab.research.google.com/github/tohooni/DeepRunning/blob/master/TensorFlow_%EA%B8%B0%EC%B4%88_%EB%85%B8%EB%93%9C.ipynb\" target=\"_parent\"><img src=\"https://colab.research.google.com/assets/colab-badge.svg\" alt=\"Open In Colab\"/></a>"
      ]
    },
    {
      "cell_type": "code",
      "metadata": {
        "id": "Pmt1c2ogmcGl",
        "colab_type": "code",
        "colab": {
          "base_uri": "https://localhost:8080/",
          "height": 34
        },
        "outputId": "04b9cc3a-4a31-48c4-e8bf-6832b0b831ed"
      },
      "source": [
        "# 상수노드\n",
        "#텐서플로 2.0사용시\n",
        "# %tensorflow_version 2.x\n",
        "\n",
        "import tensorflow as tf\n",
        "print(tf.__version__)"
      ],
      "execution_count": 2,
      "outputs": [
        {
          "output_type": "stream",
          "text": [
            "1.15.0\n"
          ],
          "name": "stdout"
        }
      ]
    },
    {
      "cell_type": "code",
      "metadata": {
        "id": "ZjBjghUWm1lV",
        "colab_type": "code",
        "colab": {
          "base_uri": "https://localhost:8080/",
          "height": 168
        },
        "outputId": "f12cd09f-34ae-42da-a6cd-8344025fd6a9"
      },
      "source": [
        "# 상수노드 정의\n",
        "a = tf.constant(1, name='a')\n",
        "b = tf.constant(2, name='b')\n",
        "c = tf.constant([ [1,2],[3,4] ])\n",
        "print(a)\n",
        "print(a+b)\n",
        "print(c)\n",
        "\n",
        "# 세션을 만들고 노드간의 텐서 연산 실행\n",
        "sess = tf.Session()\n",
        "\n",
        "print(sess.run([a,b]))\n",
        "print(sess.run(c))\n",
        "print(sess.run([a+b]))\n",
        "print(sess.run(c+1))\n",
        "\n",
        "#세션닫기\n",
        "sess.close()"
      ],
      "execution_count": 14,
      "outputs": [
        {
          "output_type": "stream",
          "text": [
            "Tensor(\"a_8:0\", shape=(), dtype=int32)\n",
            "Tensor(\"add_17:0\", shape=(), dtype=int32)\n",
            "Tensor(\"Const_8:0\", shape=(2, 2), dtype=int32)\n",
            "[1, 2]\n",
            "[[1 2]\n",
            " [3 4]]\n",
            "[3]\n",
            "[[2 3]\n",
            " [4 5]]\n"
          ],
          "name": "stdout"
        }
      ]
    },
    {
      "cell_type": "code",
      "metadata": {
        "id": "x0yhO9_Lm1ov",
        "colab_type": "code",
        "colab": {
          "base_uri": "https://localhost:8080/",
          "height": 84
        },
        "outputId": "af448a5e-31cf-445d-a175-f15f42570ed5"
      },
      "source": [
        "# 플레이스홀더 노드 정의\n",
        "a = tf.placeholder(tf.float32)\n",
        "b = tf.placeholder(tf.float32)\n",
        "c = a + b\n",
        "\n",
        "#세션을 만들고 플레이스홀더 노드를 통해 값을 입력 받는다.\n",
        "sess = tf.Session()\n",
        "\n",
        "print(sess.run(c, feed_dict={a:1, b:3}))\n",
        "print(sess.run(c, feed_dict={a:[1,2], b:[3,4]}))\n",
        "\n",
        "#연산추가\n",
        "d = 100 * c\n",
        "\n",
        "print(sess.run(d, feed_dict={a:1, b:3}))\n",
        "print(sess.run(d, feed_dict={a:[1,2], b:[3,4]}))\n",
        "\n",
        "#세션닫기\n",
        "sess.close()"
      ],
      "execution_count": 12,
      "outputs": [
        {
          "output_type": "stream",
          "text": [
            "4.0\n",
            "[4. 6.]\n",
            "400.0\n",
            "[400. 600.]\n"
          ],
          "name": "stdout"
        }
      ]
    },
    {
      "cell_type": "code",
      "metadata": {
        "id": "xhnXRnJ8m1q9",
        "colab_type": "code",
        "colab": {
          "base_uri": "https://localhost:8080/",
          "height": 118
        },
        "outputId": "cf5e2ac2-051f-4028-d331-4c9d09e20b3e"
      },
      "source": [
        "#값이 계속 업데이트되는 변수 노드 정의\n",
        "w1 = tf.Variable(tf.random_normal([1]))\n",
        "b1 = tf.Variable(tf.random_normal([1]))\n",
        "\n",
        "w2 = tf.Variable(tf.random_normal([1,2]))\n",
        "b2 = tf.Variable(tf.random_normal([1,2]))\n",
        "\n",
        "#세션 생성\n",
        "sess = tf.Session()\n",
        "\n",
        "#변수노드 값 초기화, 변수노드를 정의했다면 반드시 필요함.\n",
        "sess.run(tf.global_variables_initializer())\n",
        "\n",
        "for step in range(3):\n",
        "\n",
        "  w1 = w1 - step\n",
        "  b1 = b1 - step\n",
        "\n",
        "  w2 = w2 - step\n",
        "  b2 = b2 - step\n",
        "\n",
        "  print(\"step = \", step, \", w1 = \", sess.run(w1), \", b1 = \", sess.run(b1))\n",
        "  print(\"step = \", step, \", w2 = \", sess.run(w1), \", b2 = \", sess.run(b1))\n",
        "#세션닫기\n",
        "sess.close()"
      ],
      "execution_count": 16,
      "outputs": [
        {
          "output_type": "stream",
          "text": [
            "step =  0 , w1 =  [-1.3626466] , b1 =  [-1.2140725]\n",
            "step =  0 , w2 =  [-1.3626466] , b2 =  [-1.2140725]\n",
            "step =  1 , w1 =  [-2.3626466] , b1 =  [-2.2140725]\n",
            "step =  1 , w2 =  [-2.3626466] , b2 =  [-2.2140725]\n",
            "step =  2 , w1 =  [-4.3626466] , b1 =  [-4.214072]\n",
            "step =  2 , w2 =  [-4.3626466] , b2 =  [-4.214072]\n"
          ],
          "name": "stdout"
        }
      ]
    },
    {
      "cell_type": "code",
      "metadata": {
        "id": "IuAuoh9em1tQ",
        "colab_type": "code",
        "colab": {}
      },
      "source": [
        ""
      ],
      "execution_count": 0,
      "outputs": []
    }
  ]
}