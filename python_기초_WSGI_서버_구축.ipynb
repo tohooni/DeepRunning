{
  "nbformat": 4,
  "nbformat_minor": 0,
  "metadata": {
    "colab": {
      "name": "python_기초_WSGI 서버 구축.ipynb",
      "provenance": [],
      "include_colab_link": true
    },
    "kernelspec": {
      "name": "python3",
      "display_name": "Python 3"
    }
  },
  "cells": [
    {
      "cell_type": "markdown",
      "metadata": {
        "id": "view-in-github",
        "colab_type": "text"
      },
      "source": [
        "<a href=\"https://colab.research.google.com/github/tohooni/DeepRunning/blob/master/python_%EA%B8%B0%EC%B4%88_WSGI_%EC%84%9C%EB%B2%84_%EA%B5%AC%EC%B6%95.ipynb\" target=\"_parent\"><img src=\"https://colab.research.google.com/assets/colab-badge.svg\" alt=\"Open In Colab\"/></a>"
      ]
    },
    {
      "cell_type": "code",
      "metadata": {
        "id": "y0-tpZvgJCsO",
        "colab_type": "code",
        "colab": {
          "base_uri": "https://localhost:8080/",
          "height": 129
        },
        "outputId": "9ee0c135-9c0b-4698-9c9b-fbb17b0b6680"
      },
      "source": [
        "# Flask 설치\n",
        "\n",
        "# Flask 설치\n",
        "$ pip install flask\n",
        "\n",
        "# Flask 확인\n",
        "$ flask --version\n"
      ],
      "execution_count": 1,
      "outputs": [
        {
          "output_type": "error",
          "ename": "SyntaxError",
          "evalue": "ignored",
          "traceback": [
            "\u001b[0;36m  File \u001b[0;32m\"<ipython-input-1-6a4c864d76b7>\"\u001b[0;36m, line \u001b[0;32m1\u001b[0m\n\u001b[0;31m    Flask 설치\u001b[0m\n\u001b[0m           ^\u001b[0m\n\u001b[0;31mSyntaxError\u001b[0m\u001b[0;31m:\u001b[0m invalid syntax\n"
          ]
        }
      ]
    },
    {
      "cell_type": "code",
      "metadata": {
        "id": "pLXQqPFdJXK3",
        "colab_type": "code",
        "colab": {}
      },
      "source": [
        "# Flask 어플리케이션 만들기\n",
        "\n",
        "from flask import Flask\n",
        "app = Flask(__name__)\n",
        "\n",
        "@app.route('/')\n",
        "def index():\n",
        "    return 'Hello Flask'\n",
        "\n",
        "@app.route('/info')\n",
        "def info():\n",
        "    return 'Info'\n",
        "    "
      ],
      "execution_count": 0,
      "outputs": []
    },
    {
      "cell_type": "code",
      "metadata": {
        "id": "q9RsjyT5JdVQ",
        "colab_type": "code",
        "colab": {}
      },
      "source": [
        "# Flask 서버 구동 확인하기\n",
        "\n",
        "# CLI환경에서 pyflask 폴더에서 flask run 입력하고, Chrome에서 http://127.0.0.1:5000/으로 접속하면 된다. info 라우터를 확인하려면 http://127.0.0.1:5000/info/에 접속하면 확인 가능하다.\n",
        "\n"
      ],
      "execution_count": 0,
      "outputs": []
    },
    {
      "cell_type": "code",
      "metadata": {
        "id": "mThWy1xHJXOT",
        "colab_type": "code",
        "colab": {
          "base_uri": "https://localhost:8080/",
          "height": 129
        },
        "outputId": "232520a5-fbae-4485-c811-fba613371d99"
      },
      "source": [
        "# app.py에 템플릿 코드 추가\n",
        "\n",
        "from flask import Flask, render_template\n",
        "app = Flask(__name__)\n",
        "\n",
        "@app.route('/')\n",
        "def index():\n",
        "    return render_template('index.html')\n",
        "\n",
        "@app.route('/info')\n",
        "def info():\n",
        "    return return render_template('info.html')"
      ],
      "execution_count": 4,
      "outputs": [
        {
          "output_type": "error",
          "ename": "SyntaxError",
          "evalue": "ignored",
          "traceback": [
            "\u001b[0;36m  File \u001b[0;32m\"<ipython-input-4-2992a2e2ac76>\"\u001b[0;36m, line \u001b[0;32m11\u001b[0m\n\u001b[0;31m    return return render_template('info.html')\u001b[0m\n\u001b[0m                ^\u001b[0m\n\u001b[0;31mSyntaxError\u001b[0m\u001b[0;31m:\u001b[0m invalid syntax\n"
          ]
        }
      ]
    },
    {
      "cell_type": "code",
      "metadata": {
        "id": "pMAi4SYhJp5X",
        "colab_type": "code",
        "colab": {
          "base_uri": "https://localhost:8080/",
          "height": 129
        },
        "outputId": "acf022b8-9ebf-4d25-9742-ca39d25ceb4c"
      },
      "source": [
        "# templates/index.html\n",
        "\n",
        "<!DOCTYPE html>\n",
        "<html lang=\"ko\">\n",
        "<head>\n",
        "    <meta charset=\"UTF-8\">\n",
        "    <meta name=\"viewport\" content=\"width=device-width, initial-scale=1.0\">\n",
        "    <meta http-equiv=\"X-UA-Compatible\" content=\"ie=edge\">\n",
        "    <title>Flask Index</title>\n",
        "</head>\n",
        "<body>\n",
        "\n",
        "<h1>Hello Flask</h1>\n",
        "<p>This page is for Flask tutorial.</p>\n",
        "\n",
        "</body>\n",
        "</html>"
      ],
      "execution_count": 5,
      "outputs": [
        {
          "output_type": "error",
          "ename": "SyntaxError",
          "evalue": "ignored",
          "traceback": [
            "\u001b[0;36m  File \u001b[0;32m\"<ipython-input-5-1976af8951cd>\"\u001b[0;36m, line \u001b[0;32m2\u001b[0m\n\u001b[0;31m    <!DOCTYPE html>\u001b[0m\n\u001b[0m    ^\u001b[0m\n\u001b[0;31mSyntaxError\u001b[0m\u001b[0;31m:\u001b[0m invalid syntax\n"
          ]
        }
      ]
    },
    {
      "cell_type": "code",
      "metadata": {
        "id": "Y-gN9ZSwJvJz",
        "colab_type": "code",
        "colab": {
          "base_uri": "https://localhost:8080/",
          "height": 129
        },
        "outputId": "df853191-dba1-4249-f50a-88f69c533cd9"
      },
      "source": [
        "# templates/info.html\n",
        "\n",
        "<!DOCTYPE html>\n",
        "<html lang=\"ko\">\n",
        "<head>\n",
        "    <meta charset=\"UTF-8\">\n",
        "    <meta name=\"viewport\" content=\"width=device-width, initial-scale=1.0\">\n",
        "    <meta http-equiv=\"X-UA-Compatible\" content=\"ie=edge\">\n",
        "    <title>Flask Info</title>\n",
        "</head>\n",
        "<body>\n",
        "\n",
        "<p>This page is Info page.</p>\n",
        "\n",
        "</body>\n",
        "</html>"
      ],
      "execution_count": 6,
      "outputs": [
        {
          "output_type": "error",
          "ename": "SyntaxError",
          "evalue": "ignored",
          "traceback": [
            "\u001b[0;36m  File \u001b[0;32m\"<ipython-input-6-5ebfc2743eae>\"\u001b[0;36m, line \u001b[0;32m2\u001b[0m\n\u001b[0;31m    <!DOCTYPE html>\u001b[0m\n\u001b[0m    ^\u001b[0m\n\u001b[0;31mSyntaxError\u001b[0m\u001b[0;31m:\u001b[0m invalid syntax\n"
          ]
        }
      ]
    },
    {
      "cell_type": "code",
      "metadata": {
        "id": "ghc2H6mhJz_I",
        "colab_type": "code",
        "colab": {}
      },
      "source": [
        "# 추가된 페이지 확인\n",
        "# app.py의 router를 통해 http://127.0.0.1:5000/과 http://127.0.0.1:5000/info/에 접속하면 index.html과 info.html를 확인할 수 있다."
      ],
      "execution_count": 0,
      "outputs": []
    }
  ]
}