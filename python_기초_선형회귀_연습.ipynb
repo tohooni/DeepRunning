{
  "nbformat": 4,
  "nbformat_minor": 0,
  "metadata": {
    "colab": {
      "name": "python 기초_선형회귀 연습.ipynb",
      "provenance": [],
      "collapsed_sections": [],
      "include_colab_link": true
    },
    "kernelspec": {
      "name": "python3",
      "display_name": "Python 3"
    }
  },
  "cells": [
    {
      "cell_type": "markdown",
      "metadata": {
        "id": "view-in-github",
        "colab_type": "text"
      },
      "source": [
        "<a href=\"https://colab.research.google.com/github/tohooni/DeepRunning/blob/master/python_%EA%B8%B0%EC%B4%88_%EC%84%A0%ED%98%95%ED%9A%8C%EA%B7%80_%EC%97%B0%EC%8A%B5.ipynb\" target=\"_parent\"><img src=\"https://colab.research.google.com/assets/colab-badge.svg\" alt=\"Open In Colab\"/></a>"
      ]
    },
    {
      "cell_type": "code",
      "metadata": {
        "id": "OzA9Xz_3ATRi",
        "colab_type": "code",
        "colab": {}
      },
      "source": [
        "import numpy as np\n",
        "\n",
        "#입력 데이터 설정\n",
        "x_data = np.array([2,4,6,8,10]).reshape(5,1)\n",
        "t_data = np.array([5,10,15,18,22]).reshape(5,1)\n"
      ],
      "execution_count": 0,
      "outputs": []
    },
    {
      "cell_type": "code",
      "metadata": {
        "id": "I3Sbv0YrAwCk",
        "colab_type": "code",
        "outputId": "bf5c955b-b541-4aa5-b1bb-47fe7592c787",
        "colab": {
          "base_uri": "https://localhost:8080/",
          "height": 35
        }
      },
      "source": [
        "#가중치 W와 바이어스 b값 설정\n",
        "#가중치 임의 설정\n",
        "\n",
        "W = np.random.rand(1,1)  # 3X1 행렬\n",
        "b = np.random.rand(1)  \n",
        "print(\"W = \", W, \", W.shape = \", W.shape, \", b = \", b, \", b.shape = \", b.shape)"
      ],
      "execution_count": 87,
      "outputs": [
        {
          "output_type": "stream",
          "text": [
            "W =  [[0.89747048]] , W.shape =  (1, 1) , b =  [0.03911074] , b.shape =  (1,)\n"
          ],
          "name": "stdout"
        }
      ]
    },
    {
      "cell_type": "code",
      "metadata": {
        "id": "ZoKtZbcrBKsa",
        "colab_type": "code",
        "colab": {}
      },
      "source": [
        "#lost, cost 함수 구현\n",
        "def loss_func(x, t):\n",
        "    y = np.dot(x,W) + b\n",
        "    \n",
        "    return ( np.sum( (t - y)**2 ) ) / ( len(x) )"
      ],
      "execution_count": 0,
      "outputs": []
    },
    {
      "cell_type": "code",
      "metadata": {
        "id": "3FfWlsTfBiPH",
        "colab_type": "code",
        "colab": {}
      },
      "source": [
        "#수치미분 numerical_derivative 및  utiliy함수 정의\n",
        "#f:최소 자승값, x:임의의 가중치\n",
        "def numerical_derivative(f, x):\n",
        "\n",
        "    delta_x = 1e-2 # 0.0001\n",
        "    grad = np.zeros_like(x)\n",
        "    \n",
        "    it = np.nditer(x, flags=['multi_index'], op_flags=['readwrite'])\n",
        "    \n",
        "    while not it.finished:\n",
        "        idx = it.multi_index        \n",
        "        tmp_val = x[idx]\n",
        "        x[idx] = float(tmp_val) + delta_x\n",
        "        fx1 = f(x) # f(x+delta_x)\n",
        "        \n",
        "        x[idx] = tmp_val - delta_x \n",
        "        fx2 = f(x) # f(x-delta_x)\n",
        "        grad[idx] = (fx1 - fx2) / (2*delta_x)\n",
        "        \n",
        "        x[idx] = tmp_val \n",
        "        it.iternext()   \n",
        "        \n",
        "    return grad"
      ],
      "execution_count": 0,
      "outputs": []
    },
    {
      "cell_type": "code",
      "metadata": {
        "id": "Qf3cxAGb_N8J",
        "colab_type": "code",
        "colab": {}
      },
      "source": [
        "# loss_func(x_data,t_data)\n",
        "# numerical_derivative(lambda x :loss_func(x_data,t_data), W)"
      ],
      "execution_count": 0,
      "outputs": []
    },
    {
      "cell_type": "code",
      "metadata": {
        "id": "DSH41UEvCvre",
        "colab_type": "code",
        "colab": {}
      },
      "source": [
        "# 손실함수 값 계산 함수\n",
        "# 입력변수 x, t : numpy type\n",
        "def error_val(x, t):\n",
        "    y = np.dot(x,W) + b\n",
        "    \n",
        "    return ( np.sum( (t - y)**2 ) ) / ( len(x) )\n",
        "\n",
        "# 학습을 마친 후, 임의의 데이터에 대해 미래 값 예측 함수\n",
        "# 입력변수 x : numpy type\n",
        "def predict(x):\n",
        "    y = np.dot(x,W) + b\n",
        "    \n",
        "    return y"
      ],
      "execution_count": 0,
      "outputs": []
    },
    {
      "cell_type": "code",
      "metadata": {
        "id": "KCVI7MCqCvus",
        "colab_type": "code",
        "outputId": "77538a66-9d70-4092-c48e-746ca4291b75",
        "colab": {
          "base_uri": "https://localhost:8080/",
          "height": 719
        }
      },
      "source": [
        "#경사하강법을 통한 손실함수 최소화 함수\n",
        "learning_rate = 1e-2  # 1e-2, 1e-3 은 손실함수 값 발산\n",
        "\n",
        "f = lambda x : loss_func(x_data,t_data)\n",
        "\n",
        "print(\"Initial error value = \", error_val(x_data, t_data), \"Initial W = \", W, \"\\n\", \", b = \", b )\n",
        "\n",
        "for step in  range(8001):  \n",
        "    \n",
        "    W -= learning_rate * numerical_derivative(f, W)\n",
        "    \n",
        "    b -= learning_rate * numerical_derivative(f, b)\n",
        "    \n",
        "    # print(\"step = \", step, \"error value = \", error_val(x_data, t_data), \"W = \", W, \", b = \",b )\n",
        "\n",
        "    if (step % 500 == 0):\n",
        "        print(\"step = \", step, \"error value = \", error_val(x_data, t_data), \"W = \", W, \", b = \",b )"
      ],
      "execution_count": 94,
      "outputs": [
        {
          "output_type": "stream",
          "text": [
            "Initial error value =  0.31999999999999973 Initial W =  [[2.1]] \n",
            " , b =  [1.4]\n",
            "step =  0 error value =  0.31999999999999973 W =  [[2.1]] , b =  [1.4]\n",
            "step =  500 error value =  0.3200000000000005 W =  [[2.1]] , b =  [1.4]\n",
            "step =  1000 error value =  0.3200000000000005 W =  [[2.1]] , b =  [1.4]\n",
            "step =  1500 error value =  0.3200000000000005 W =  [[2.1]] , b =  [1.4]\n",
            "step =  2000 error value =  0.3200000000000005 W =  [[2.1]] , b =  [1.4]\n",
            "step =  2500 error value =  0.3200000000000005 W =  [[2.1]] , b =  [1.4]\n",
            "step =  3000 error value =  0.3200000000000005 W =  [[2.1]] , b =  [1.4]\n",
            "step =  3500 error value =  0.3200000000000005 W =  [[2.1]] , b =  [1.4]\n",
            "step =  4000 error value =  0.3200000000000005 W =  [[2.1]] , b =  [1.4]\n",
            "step =  4500 error value =  0.3200000000000005 W =  [[2.1]] , b =  [1.4]\n",
            "step =  5000 error value =  0.3200000000000005 W =  [[2.1]] , b =  [1.4]\n",
            "step =  5500 error value =  0.3200000000000005 W =  [[2.1]] , b =  [1.4]\n",
            "step =  6000 error value =  0.3200000000000005 W =  [[2.1]] , b =  [1.4]\n",
            "step =  6500 error value =  0.3200000000000005 W =  [[2.1]] , b =  [1.4]\n",
            "step =  7000 error value =  0.3200000000000005 W =  [[2.1]] , b =  [1.4]\n",
            "step =  7500 error value =  0.3200000000000005 W =  [[2.1]] , b =  [1.4]\n",
            "step =  8000 error value =  0.3200000000000005 W =  [[2.1]] , b =  [1.4]\n",
            "step =  8500 error value =  0.3200000000000005 W =  [[2.1]] , b =  [1.4]\n",
            "step =  9000 error value =  0.3200000000000005 W =  [[2.1]] , b =  [1.4]\n",
            "step =  9500 error value =  0.3200000000000005 W =  [[2.1]] , b =  [1.4]\n",
            "step =  10000 error value =  0.3200000000000005 W =  [[2.1]] , b =  [1.4]\n",
            "step =  10500 error value =  0.3200000000000005 W =  [[2.1]] , b =  [1.4]\n",
            "step =  11000 error value =  0.3200000000000005 W =  [[2.1]] , b =  [1.4]\n",
            "step =  11500 error value =  0.3200000000000005 W =  [[2.1]] , b =  [1.4]\n",
            "step =  12000 error value =  0.3200000000000005 W =  [[2.1]] , b =  [1.4]\n",
            "step =  12500 error value =  0.3200000000000005 W =  [[2.1]] , b =  [1.4]\n",
            "step =  13000 error value =  0.3200000000000005 W =  [[2.1]] , b =  [1.4]\n",
            "step =  13500 error value =  0.3200000000000005 W =  [[2.1]] , b =  [1.4]\n",
            "step =  14000 error value =  0.3200000000000005 W =  [[2.1]] , b =  [1.4]\n",
            "step =  14500 error value =  0.3200000000000005 W =  [[2.1]] , b =  [1.4]\n",
            "step =  15000 error value =  0.3200000000000005 W =  [[2.1]] , b =  [1.4]\n",
            "step =  15500 error value =  0.3200000000000005 W =  [[2.1]] , b =  [1.4]\n",
            "step =  16000 error value =  0.3200000000000005 W =  [[2.1]] , b =  [1.4]\n",
            "step =  16500 error value =  0.3200000000000005 W =  [[2.1]] , b =  [1.4]\n",
            "step =  17000 error value =  0.3200000000000005 W =  [[2.1]] , b =  [1.4]\n",
            "step =  17500 error value =  0.3200000000000005 W =  [[2.1]] , b =  [1.4]\n",
            "step =  18000 error value =  0.3200000000000005 W =  [[2.1]] , b =  [1.4]\n"
          ],
          "name": "stdout"
        }
      ]
    },
    {
      "cell_type": "code",
      "metadata": {
        "id": "Viclk6i3CvxU",
        "colab_type": "code",
        "colab": {}
      },
      "source": [
        ""
      ],
      "execution_count": 0,
      "outputs": []
    },
    {
      "cell_type": "code",
      "metadata": {
        "id": "E488OhX4HYK_",
        "colab_type": "code",
        "outputId": "4d9bae5c-55d6-42e8-ee8a-5924642cbde1",
        "colab": {
          "base_uri": "https://localhost:8080/",
          "height": 35
        }
      },
      "source": [
        "print(\"y = \", predict(20))"
      ],
      "execution_count": 93,
      "outputs": [
        {
          "output_type": "stream",
          "text": [
            "y =  [[43.4]]\n"
          ],
          "name": "stdout"
        }
      ]
    },
    {
      "cell_type": "code",
      "metadata": {
        "id": "QImfgXbSEFp2",
        "colab_type": "code",
        "colab": {
          "base_uri": "https://localhost:8080/",
          "height": 64
        },
        "outputId": "39a9b754-f9ba-4402-ee0c-b1c0e3a08119"
      },
      "source": [
        "# 하루 노동 시간으로 매출 예측\n",
        "# %tensorflow_version 2.x\n",
        "import tensorflow as tf\n",
        "\n",
        "xData = [1,2,3,4,5,6,7]\n",
        "yData = [25000,55000,75000,110000,128000,155000,180000]\n",
        "\n",
        "W = tf.Variable(tf.random_uniform([1], -100, 100))\n",
        "b = tf.Variable(tf.random_uniform([1], -100, 100))\n",
        "\n",
        "X = tf.placeholder(tf.float32)\n",
        "Y = tf.placeholder(tf.float32)"
      ],
      "execution_count": 1,
      "outputs": [
        {
          "output_type": "display_data",
          "data": {
            "text/html": [
              "<p style=\"color: red;\">\n",
              "The default version of TensorFlow in Colab will soon switch to TensorFlow 2.x.<br>\n",
              "We recommend you <a href=\"https://www.tensorflow.org/guide/migrate\" target=\"_blank\">upgrade</a> now \n",
              "or ensure your notebook will continue to use TensorFlow 1.x via the <code>%tensorflow_version 1.x</code> magic:\n",
              "<a href=\"https://colab.research.google.com/notebooks/tensorflow_version.ipynb\" target=\"_blank\">more info</a>.</p>\n"
            ],
            "text/plain": [
              "<IPython.core.display.HTML object>"
            ]
          },
          "metadata": {
            "tags": []
          }
        }
      ]
    },
    {
      "cell_type": "code",
      "metadata": {
        "id": "z1rrVfkaVgDM",
        "colab_type": "code",
        "colab": {
          "base_uri": "https://localhost:8080/",
          "height": 197
        },
        "outputId": "e89af7ca-184f-4ee0-fba2-dec60e48440a"
      },
      "source": [
        "#임의의 방정식을 작성한다.\n",
        "H = W * X + b\n",
        "\n",
        "#손실함수 작성( reduce_mean:평균구하기, square는 제곱근 구하기)\n",
        "cost = tf.reduce_mean(tf.square(H - Y))\n",
        "\n",
        "#경사하강시 점프하는 step의 크기\n",
        "a = tf.Variable(0.01) \n",
        "\n",
        "#경사하강 라이브러리(텐서프로우에서 지원)\n",
        "optimizer = tf.train.GradientDescentOptimizer(a)\n",
        "\n",
        "#cost가 최저로 최적화 될때까지\n",
        "train = optimizer.minimize(cost)\n",
        "\n",
        "#변수 선언 초기화\n",
        "init = tf.global_variables_initializer()\n",
        "\n",
        "#텐서플로우 세션 열기\n",
        "sess = tf.Session()\n",
        "\n",
        "#테서플로우 세션 실행\n",
        "sess.run(init)\n",
        "\n",
        "#반복 학습 실행.\n",
        "for i in range(5000):\n",
        "  sess.run(train, feed_dict={X:xData, Y:yData})\n",
        "\n",
        "  if i % 500 == 0:\n",
        "    print(i, sess.run(cost, feed_dict={X:xData, Y:yData}), sess.run(W), sess.run(b))\n"
      ],
      "execution_count": 2,
      "outputs": [
        {
          "output_type": "stream",
          "text": [
            "0 4621916000.0 [10306.123] [2174.996]\n",
            "500 8690591.0 [25534.186] [1966.7069]\n",
            "1000 8633879.0 [25627.021] [1506.9906]\n",
            "1500 8632681.0 [25640.549] [1440.0005]\n",
            "2000 8632656.0 [25642.52] [1430.2366]\n",
            "2500 8632649.0 [25642.805] [1428.8267]\n",
            "3000 8632655.0 [25642.844] [1428.635]\n",
            "3500 8632657.0 [25642.848] [1428.6133]\n",
            "4000 8632657.0 [25642.848] [1428.6133]\n",
            "4500 8632657.0 [25642.848] [1428.6133]\n"
          ],
          "name": "stdout"
        }
      ]
    },
    {
      "cell_type": "code",
      "metadata": {
        "id": "PPu55JLGX_2M",
        "colab_type": "code",
        "colab": {
          "base_uri": "https://localhost:8080/",
          "height": 35
        },
        "outputId": "4ee383b0-d9ae-4a69-cfc7-2a215742e326"
      },
      "source": [
        "print(sess.run(H, feed_dict={X:[8]}))"
      ],
      "execution_count": 3,
      "outputs": [
        {
          "output_type": "stream",
          "text": [
            "[206571.39]\n"
          ],
          "name": "stdout"
        }
      ]
    },
    {
      "cell_type": "code",
      "metadata": {
        "id": "B_7nyWM-aDQR",
        "colab_type": "code",
        "colab": {}
      },
      "source": [
        ""
      ],
      "execution_count": 0,
      "outputs": []
    }
  ]
}