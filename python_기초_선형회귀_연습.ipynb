{
  "nbformat": 4,
  "nbformat_minor": 0,
  "metadata": {
    "colab": {
      "name": "python 기초_선형회귀 연습.ipynb",
      "provenance": [],
      "collapsed_sections": [],
      "include_colab_link": true
    },
    "kernelspec": {
      "name": "python3",
      "display_name": "Python 3"
    }
  },
  "cells": [
    {
      "cell_type": "markdown",
      "metadata": {
        "id": "view-in-github",
        "colab_type": "text"
      },
      "source": [
        "<a href=\"https://colab.research.google.com/github/tohooni/DeepRunning/blob/master/python_%EA%B8%B0%EC%B4%88_%EC%84%A0%ED%98%95%ED%9A%8C%EA%B7%80_%EC%97%B0%EC%8A%B5.ipynb\" target=\"_parent\"><img src=\"https://colab.research.google.com/assets/colab-badge.svg\" alt=\"Open In Colab\"/></a>"
      ]
    },
    {
      "cell_type": "code",
      "metadata": {
        "id": "OzA9Xz_3ATRi",
        "colab_type": "code",
        "colab": {}
      },
      "source": [
        "import numpy as np\n",
        "\n",
        "#입력 데이터 설정\n",
        "x_data = np.array([1,2,3,4,5]).reshape(5,1)\n",
        "t_data = np.array([2,3,4,5,6]).reshape(5,1)\n"
      ],
      "execution_count": 0,
      "outputs": []
    },
    {
      "cell_type": "code",
      "metadata": {
        "id": "I3Sbv0YrAwCk",
        "colab_type": "code",
        "colab": {
          "base_uri": "https://localhost:8080/",
          "height": 34
        },
        "outputId": "714c5f78-c143-4413-ab52-f0bfebfe041d"
      },
      "source": [
        "#가중치 W와 바이어스 b값 설정\n",
        "#가중치 임의 설정\n",
        "\n",
        "W = np.random.rand(1,1)  # 3X1 행렬\n",
        "b = np.random.rand(1)  \n",
        "print(\"W = \", W, \", W.shape = \", W.shape, \", b = \", b, \", b.shape = \", b.shape)"
      ],
      "execution_count": 32,
      "outputs": [
        {
          "output_type": "stream",
          "text": [
            "W =  [[0.33650878]] , W.shape =  (1, 1) , b =  [0.42652061] , b.shape =  (1,)\n"
          ],
          "name": "stdout"
        }
      ]
    },
    {
      "cell_type": "code",
      "metadata": {
        "id": "ZoKtZbcrBKsa",
        "colab_type": "code",
        "colab": {}
      },
      "source": [
        "#lost, cost 함수 구현\n",
        "def loss_func(x, t):\n",
        "    y = np.dot(x,W) + b\n",
        "    \n",
        "    return ( np.sum( (t - y)**2 ) ) / ( len(x) )"
      ],
      "execution_count": 0,
      "outputs": []
    },
    {
      "cell_type": "code",
      "metadata": {
        "id": "3FfWlsTfBiPH",
        "colab_type": "code",
        "colab": {}
      },
      "source": [
        "#수치미분 numerical_derivative 및  utiliy함수 정의\n",
        "def numerical_derivative(f, x):\n",
        "    delta_x = 1e-2 # 0.0001\n",
        "    grad = np.zeros_like(x)\n",
        "    \n",
        "    it = np.nditer(x, flags=['multi_index'], op_flags=['readwrite'])\n",
        "    \n",
        "    while not it.finished:\n",
        "        idx = it.multi_index        \n",
        "        tmp_val = x[idx]\n",
        "        x[idx] = float(tmp_val) + delta_x\n",
        "        fx1 = f(x) # f(x+delta_x)\n",
        "        \n",
        "        x[idx] = tmp_val - delta_x \n",
        "        fx2 = f(x) # f(x-delta_x)\n",
        "        grad[idx] = (fx1 - fx2) / (2*delta_x)\n",
        "        \n",
        "        x[idx] = tmp_val \n",
        "        it.iternext()   \n",
        "        \n",
        "    return grad"
      ],
      "execution_count": 0,
      "outputs": []
    },
    {
      "cell_type": "code",
      "metadata": {
        "id": "DSH41UEvCvre",
        "colab_type": "code",
        "colab": {}
      },
      "source": [
        "# 손실함수 값 계산 함수\n",
        "# 입력변수 x, t : numpy type\n",
        "def error_val(x, t):\n",
        "    y = np.dot(x,W) + b\n",
        "    \n",
        "    return ( np.sum( (t - y)**2 ) ) / ( len(x) )\n",
        "\n",
        "# 학습을 마친 후, 임의의 데이터에 대해 미래 값 예측 함수\n",
        "# 입력변수 x : numpy type\n",
        "def predict(x):\n",
        "    y = np.dot(x,W) + b\n",
        "    \n",
        "    return y"
      ],
      "execution_count": 0,
      "outputs": []
    },
    {
      "cell_type": "code",
      "metadata": {
        "id": "KCVI7MCqCvus",
        "colab_type": "code",
        "colab": {
          "base_uri": "https://localhost:8080/",
          "height": 487
        },
        "outputId": "81089d02-5919-451f-f2b9-f36188ea2648"
      },
      "source": [
        "#경사하강법을 통한 손실함수 최소화 함수\n",
        "learning_rate = 1e-2  # 1e-2, 1e-3 은 손실함수 값 발산\n",
        "\n",
        "f = lambda x : loss_func(x_data,t_data)\n",
        "\n",
        "print(\"Initial error value = \", error_val(x_data, t_data), \"Initial W = \", W, \"\\n\", \", b = \", b )\n",
        "\n",
        "for step in  range(10001):  \n",
        "    \n",
        "    W -= learning_rate * numerical_derivative(f, W)\n",
        "    \n",
        "    b -= learning_rate * numerical_derivative(f, b)\n",
        "    \n",
        "    if (step % 400 == 0):\n",
        "        print(\"step = \", step, \"error value = \", error_val(x_data, t_data), \"W = \", W, \", b = \",b )"
      ],
      "execution_count": 36,
      "outputs": [
        {
          "output_type": "stream",
          "text": [
            "Initial error value =  7.454296390551545 Initial W =  [[0.33650878]] \n",
            " , b =  [0.42652061]\n",
            "step =  0 error value =  4.396574362885798 W =  [[0.51688561]] , b =  [0.46697706]\n",
            "step =  400 error value =  0.0018994667173556784 W =  [[1.0283017]] , b =  [0.89784688]\n",
            "step =  800 error value =  0.00012119720616287816 W =  [[1.00714896]] , b =  [0.97419629]\n",
            "step =  1200 error value =  7.73309826777872e-06 W =  [[1.00180582]] , b =  [0.99348203]\n",
            "step =  1600 error value =  4.934173873513343e-07 W =  [[1.00045615]] , b =  [0.99835357]\n",
            "step =  2000 error value =  3.1482946383069956e-08 W =  [[1.00011522]] , b =  [0.99958411]\n",
            "step =  2400 error value =  2.008798105517827e-09 W =  [[1.0000291]] , b =  [0.99989495]\n",
            "step =  2800 error value =  1.281731950943838e-10 W =  [[1.00000735]] , b =  [0.99997346]\n",
            "step =  3200 error value =  8.178207602420223e-12 W =  [[1.00000186]] , b =  [0.9999933]\n",
            "step =  3600 error value =  5.218179946694574e-13 W =  [[1.00000047]] , b =  [0.99999831]\n",
            "step =  4000 error value =  3.329507308487386e-14 W =  [[1.00000012]] , b =  [0.99999957]\n",
            "step =  4400 error value =  2.124422511927351e-15 W =  [[1.00000003]] , b =  [0.99999989]\n",
            "step =  4800 error value =  1.3555070860873954e-16 W =  [[1.00000001]] , b =  [0.99999997]\n",
            "step =  5200 error value =  8.64893680580028e-18 W =  [[1.]] , b =  [0.99999999]\n",
            "step =  5600 error value =  5.51853274615222e-19 W =  [[1.]] , b =  [1.]\n",
            "step =  6000 error value =  3.521149028429143e-20 W =  [[1.]] , b =  [1.]\n",
            "step =  6400 error value =  2.2467160366486108e-21 W =  [[1.]] , b =  [1.]\n",
            "step =  6800 error value =  1.4335572647524642e-22 W =  [[1.]] , b =  [1.]\n",
            "step =  7200 error value =  9.145969291863721e-24 W =  [[1.]] , b =  [1.]\n",
            "step =  7600 error value =  5.845074737996402e-25 W =  [[1.]] , b =  [1.]\n",
            "step =  8000 error value =  3.7539799998069115e-26 W =  [[1.]] , b =  [1.]\n",
            "step =  8400 error value =  2.371562400127243e-27 W =  [[1.]] , b =  [1.]\n",
            "step =  8800 error value =  1.9540084622324462e-28 W =  [[1.]] , b =  [1.]\n",
            "step =  9200 error value =  8.712968698166076e-29 W =  [[1.]] , b =  [1.]\n",
            "step =  9600 error value =  8.712968698166076e-29 W =  [[1.]] , b =  [1.]\n",
            "step =  10000 error value =  8.712968698166076e-29 W =  [[1.]] , b =  [1.]\n"
          ],
          "name": "stdout"
        }
      ]
    },
    {
      "cell_type": "code",
      "metadata": {
        "id": "Viclk6i3CvxU",
        "colab_type": "code",
        "colab": {}
      },
      "source": [
        ""
      ],
      "execution_count": 0,
      "outputs": []
    },
    {
      "cell_type": "code",
      "metadata": {
        "id": "E488OhX4HYK_",
        "colab_type": "code",
        "colab": {
          "base_uri": "https://localhost:8080/",
          "height": 34
        },
        "outputId": "e854ad79-43e4-4f43-a620-e51417857633"
      },
      "source": [
        "print(\"y = \", predict(20))"
      ],
      "execution_count": 37,
      "outputs": [
        {
          "output_type": "stream",
          "text": [
            "y =  [[21.]]\n"
          ],
          "name": "stdout"
        }
      ]
    },
    {
      "cell_type": "code",
      "metadata": {
        "id": "H14w6ihGHix-",
        "colab_type": "code",
        "colab": {}
      },
      "source": [
        ""
      ],
      "execution_count": 0,
      "outputs": []
    }
  ]
}