{
  "nbformat": 4,
  "nbformat_minor": 0,
  "metadata": {
    "colab": {
      "name": "python 기초_선형회귀 연습.ipynb",
      "provenance": [],
      "collapsed_sections": [],
      "include_colab_link": true
    },
    "kernelspec": {
      "name": "python3",
      "display_name": "Python 3"
    }
  },
  "cells": [
    {
      "cell_type": "markdown",
      "metadata": {
        "id": "view-in-github",
        "colab_type": "text"
      },
      "source": [
        "<a href=\"https://colab.research.google.com/github/tohooni/DeepRunning/blob/master/python_%EA%B8%B0%EC%B4%88_%EC%84%A0%ED%98%95%ED%9A%8C%EA%B7%80_%EC%97%B0%EC%8A%B5.ipynb\" target=\"_parent\"><img src=\"https://colab.research.google.com/assets/colab-badge.svg\" alt=\"Open In Colab\"/></a>"
      ]
    },
    {
      "cell_type": "code",
      "metadata": {
        "id": "OzA9Xz_3ATRi",
        "colab_type": "code",
        "colab": {}
      },
      "source": [
        "import numpy as np\n",
        "\n",
        "#입력 데이터 설정\n",
        "x_data = np.array([1,2,3,4,5]).reshape(5,1)\n",
        "t_data = np.array([2,3,4,5,6]).reshape(5,1)\n"
      ],
      "execution_count": 0,
      "outputs": []
    },
    {
      "cell_type": "code",
      "metadata": {
        "id": "I3Sbv0YrAwCk",
        "colab_type": "code",
        "colab": {
          "base_uri": "https://localhost:8080/",
          "height": 34
        },
        "outputId": "a6bd54e9-4849-4324-f653-d2624ff584c7"
      },
      "source": [
        "#가중치 W와 바이어스 b값 설정\n",
        "#가중치 임의 설정\n",
        "\n",
        "W = np.random.rand(1,1)  # 3X1 행렬\n",
        "b = np.random.rand(1)  \n",
        "print(\"W = \", W, \", W.shape = \", W.shape, \", b = \", b, \", b.shape = \", b.shape)"
      ],
      "execution_count": 24,
      "outputs": [
        {
          "output_type": "stream",
          "text": [
            "W =  [[0.00155314]] , W.shape =  (1, 1) , b =  [0.81211181] , b.shape =  (1,)\n"
          ],
          "name": "stdout"
        }
      ]
    },
    {
      "cell_type": "code",
      "metadata": {
        "id": "ZoKtZbcrBKsa",
        "colab_type": "code",
        "colab": {}
      },
      "source": [
        "#lost, cost 함수 구현\n",
        "def loss_func(x, t):\n",
        "    y = np.dot(x,W) + b\n",
        "    \n",
        "    return ( np.sum( (t - y)**2 ) ) / ( len(x) )"
      ],
      "execution_count": 0,
      "outputs": []
    },
    {
      "cell_type": "code",
      "metadata": {
        "id": "3FfWlsTfBiPH",
        "colab_type": "code",
        "colab": {}
      },
      "source": [
        "#수치미분 numerical_derivative 및  utiliy함수 정의\n",
        "def numerical_derivative(f, x):\n",
        "    delta_x = 1e-4 # 0.0001\n",
        "    grad = np.zeros_like(x)\n",
        "    \n",
        "    it = np.nditer(x, flags=['multi_index'], op_flags=['readwrite'])\n",
        "    \n",
        "    while not it.finished:\n",
        "        idx = it.multi_index        \n",
        "        tmp_val = x[idx]\n",
        "        x[idx] = float(tmp_val) + delta_x\n",
        "        fx1 = f(x) # f(x+delta_x)\n",
        "        \n",
        "        x[idx] = tmp_val - delta_x \n",
        "        fx2 = f(x) # f(x-delta_x)\n",
        "        grad[idx] = (fx1 - fx2) / (2*delta_x)\n",
        "        \n",
        "        x[idx] = tmp_val \n",
        "        it.iternext()   \n",
        "        \n",
        "    return grad"
      ],
      "execution_count": 0,
      "outputs": []
    },
    {
      "cell_type": "code",
      "metadata": {
        "id": "DSH41UEvCvre",
        "colab_type": "code",
        "colab": {}
      },
      "source": [
        "# 손실함수 값 계산 함수\n",
        "# 입력변수 x, t : numpy type\n",
        "def error_val(x, t):\n",
        "    y = np.dot(x,W) + b\n",
        "    \n",
        "    return ( np.sum( (t - y)**2 ) ) / ( len(x) )\n",
        "\n",
        "# 학습을 마친 후, 임의의 데이터에 대해 미래 값 예측 함수\n",
        "# 입력변수 x : numpy type\n",
        "def predict(x):\n",
        "    y = np.dot(x,W) + b\n",
        "    \n",
        "    return y"
      ],
      "execution_count": 0,
      "outputs": []
    },
    {
      "cell_type": "code",
      "metadata": {
        "id": "KCVI7MCqCvus",
        "colab_type": "code",
        "colab": {
          "base_uri": "https://localhost:8080/",
          "height": 487
        },
        "outputId": "8427a65a-a2f3-4312-b007-5d48c731985b"
      },
      "source": [
        "#경사하강법을 통한 손실함수 최소화 함수\n",
        "learning_rate = 1e-5  # 1e-2, 1e-3 은 손실함수 값 발산\n",
        "\n",
        "f = lambda x : loss_func(x_data,t_data)\n",
        "\n",
        "print(\"Initial error value = \", error_val(x_data, t_data), \"Initial W = \", W, \"\\n\", \", b = \", b )\n",
        "\n",
        "for step in  range(10001):  \n",
        "    \n",
        "    W -= learning_rate * numerical_derivative(f, W)\n",
        "    \n",
        "    b -= learning_rate * numerical_derivative(f, b)\n",
        "    \n",
        "    if (step % 400 == 0):\n",
        "        print(\"step = \", step, \"error value = \", error_val(x_data, t_data), \"W = \", W, \", b = \",b )"
      ],
      "execution_count": 28,
      "outputs": [
        {
          "output_type": "stream",
          "text": [
            "Initial error value =  12.126737678297676 Initial W =  [[0.00155314]] \n",
            " , b =  [0.81211181]\n",
            "step =  0 error value =  12.121000187142155 W =  [[0.00178407]] , b =  [0.81217546]\n",
            "step =  400 error value =  10.03065266769894 W =  [[0.08991054]] , b =  [0.83645997]\n",
            "step =  800 error value =  8.300835089268958 W =  [[0.17008058]] , b =  [0.85854132]\n",
            "step =  1200 error value =  6.8693654270977635 W =  [[0.24301276]] , b =  [0.8786185]\n",
            "step =  1600 error value =  5.684786436515436 W =  [[0.30936078]] , b =  [0.89687253]\n",
            "step =  2000 error value =  4.704515907629622 W =  [[0.36971927]] , b =  [0.91346809]\n",
            "step =  2400 error value =  3.893315952920287 W =  [[0.42462919]] , b =  [0.92855497]\n",
            "step =  2800 error value =  3.2220263028673783 W =  [[0.47458262]] , b =  [0.94226945]\n",
            "step =  3200 error value =  2.6665160751001324 W =  [[0.5200272]] , b =  [0.95473549]\n",
            "step =  3600 error value =  2.2068163360738486 W =  [[0.56137015]] , b =  [0.96606584]\n",
            "step =  4000 error value =  1.826402273270928 W =  [[0.5989819]] , b =  [0.97636311]\n",
            "step =  4400 error value =  1.5115991740060086 W =  [[0.63319945]] , b =  [0.9857206]\n",
            "step =  4800 error value =  1.2510908574198916 W =  [[0.66432932]] , b =  [0.9942232]\n",
            "step =  5200 error value =  1.0355128891547252 W =  [[0.69265039]] , b =  [1.00194813]\n",
            "step =  5600 error value =  0.8571159559056177 W =  [[0.71841632]] , b =  [1.00896565]\n",
            "step =  6000 error value =  0.7094872990967833 W =  [[0.74185788]] , b =  [1.01533966]\n",
            "step =  6400 error value =  0.5873201939949764 W =  [[0.763185]] , b =  [1.02112829]\n",
            "step =  6800 error value =  0.48622318767335404 W =  [[0.78258864]] , b =  [1.02638442]\n",
            "step =  7200 error value =  0.40256223845922473 W =  [[0.80024251]] , b =  [1.03115616]\n",
            "step =  7600 error value =  0.333330082216591 W =  [[0.81630465]] , b =  [1.03548727]\n",
            "step =  8000 error value =  0.27603812954321955 W =  [[0.8309188]] , b =  [1.03941755]\n",
            "step =  8400 error value =  0.22862700788631635 W =  [[0.84421573]] , b =  [1.04298323]\n",
            "step =  8800 error value =  0.18939253281377272 W =  [[0.85631442]] , b =  [1.04621724]\n",
            "step =  9200 error value =  0.15692444731339142 W =  [[0.86732307]] , b =  [1.04914955]\n",
            "step =  9600 error value =  0.13005572696776788 W =  [[0.87734013]] , b =  [1.05180742]\n",
            "step =  10000 error value =  0.10782062866637787 W =  [[0.88645516]] , b =  [1.05421566]\n"
          ],
          "name": "stdout"
        }
      ]
    },
    {
      "cell_type": "code",
      "metadata": {
        "id": "Viclk6i3CvxU",
        "colab_type": "code",
        "colab": {}
      },
      "source": [
        ""
      ],
      "execution_count": 0,
      "outputs": []
    },
    {
      "cell_type": "code",
      "metadata": {
        "id": "E488OhX4HYK_",
        "colab_type": "code",
        "colab": {
          "base_uri": "https://localhost:8080/",
          "height": 34
        },
        "outputId": "04decdcf-ed35-4dbb-ee07-f234b96e80ae"
      },
      "source": [
        "print(\"y = \", predict(20))"
      ],
      "execution_count": 30,
      "outputs": [
        {
          "output_type": "stream",
          "text": [
            "y =  [[18.78331882]]\n"
          ],
          "name": "stdout"
        }
      ]
    },
    {
      "cell_type": "code",
      "metadata": {
        "id": "H14w6ihGHix-",
        "colab_type": "code",
        "colab": {}
      },
      "source": [
        ""
      ],
      "execution_count": 0,
      "outputs": []
    }
  ]
}