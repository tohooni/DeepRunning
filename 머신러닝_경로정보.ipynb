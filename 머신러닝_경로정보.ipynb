{
  "nbformat": 4,
  "nbformat_minor": 0,
  "metadata": {
    "colab": {
      "name": "머신러닝_경로정보.ipynb",
      "provenance": [],
      "include_colab_link": true
    },
    "kernelspec": {
      "name": "python3",
      "display_name": "Python 3"
    }
  },
  "cells": [
    {
      "cell_type": "markdown",
      "metadata": {
        "id": "view-in-github",
        "colab_type": "text"
      },
      "source": [
        "<a href=\"https://colab.research.google.com/github/tohooni/DeepRunning/blob/master/%EB%A8%B8%EC%8B%A0%EB%9F%AC%EB%8B%9D_%EA%B2%BD%EB%A1%9C%EC%A0%95%EB%B3%B4.ipynb\" target=\"_parent\"><img src=\"https://colab.research.google.com/assets/colab-badge.svg\" alt=\"Open In Colab\"/></a>"
      ]
    },
    {
      "cell_type": "code",
      "metadata": {
        "id": "VnE78ttGklNS",
        "colab_type": "code",
        "colab": {}
      },
      "source": [
        "##경로 정보"
      ],
      "execution_count": 0,
      "outputs": []
    },
    {
      "cell_type": "code",
      "metadata": {
        "id": "G5GhY_-6ktR5",
        "colab_type": "code",
        "colab": {}
      },
      "source": [
        "#머신러닝 - YouTube\n",
        "#https://www.youtube.com/channel/UCZAkjFAaT9gZk-nol6EIX9w"
      ],
      "execution_count": 0,
      "outputs": []
    },
    {
      "cell_type": "code",
      "metadata": {
        "id": "u5W4I0wHlIlG",
        "colab_type": "code",
        "colab": {}
      },
      "source": [
        "#수학, 알고리즘 - YouTube\n",
        "#https://www.youtube.com/channel/UChflhu32f5EUHlY7_SetNWw"
      ],
      "execution_count": 0,
      "outputs": []
    },
    {
      "cell_type": "code",
      "metadata": {
        "id": "-BGLoDYzlJ7s",
        "colab_type": "code",
        "colab": {}
      },
      "source": [
        "#Keras_Sequential 모델-20191229.ipynb - Colaboratory\n",
        "#https://colab.research.google.com/drive/18Z7NpNISeZSF3QVer0CfwUI5wGbHdQiz#scrollTo=EI2J15Q1z-LE"
      ],
      "execution_count": 0,
      "outputs": []
    },
    {
      "cell_type": "code",
      "metadata": {
        "id": "MDnWcj-_lO8_",
        "colab_type": "code",
        "colab": {}
      },
      "source": [
        ""
      ],
      "execution_count": 0,
      "outputs": []
    }
  ]
}